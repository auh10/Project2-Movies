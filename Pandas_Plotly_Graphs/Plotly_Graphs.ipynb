{
 "cells": [
  {
   "cell_type": "code",
   "execution_count": 7,
   "metadata": {},
   "outputs": [],
   "source": [
    "import plotly as py\n",
    "from plotly.offline import init_notebook_mode, iplot\n",
    "import plotly.graph_objs as go\n",
    "import numpy as np # linear algebra\n",
    "import pandas as pd # data processing, CSV file I/O (e.g. pd.read_csv)\n",
    "import plotly.express as px\n"
   ]
  },
  {
   "cell_type": "code",
   "execution_count": 8,
   "metadata": {},
   "outputs": [],
   "source": [
    "# File to load\n",
    "title_data_to_load = \"Clean_Best_Films.csv\""
   ]
  },
  {
   "cell_type": "code",
   "execution_count": 9,
   "metadata": {},
   "outputs": [],
   "source": [
    "# Read CSV and sote into Pandas Data Frames\n",
    "title_data = pd.read_csv(title_data_to_load)"
   ]
  },
  {
   "cell_type": "code",
   "execution_count": 10,
   "metadata": {},
   "outputs": [
    {
     "data": {
      "text/html": [
       "<div>\n",
       "<style scoped>\n",
       "    .dataframe tbody tr th:only-of-type {\n",
       "        vertical-align: middle;\n",
       "    }\n",
       "\n",
       "    .dataframe tbody tr th {\n",
       "        vertical-align: top;\n",
       "    }\n",
       "\n",
       "    .dataframe thead th {\n",
       "        text-align: right;\n",
       "    }\n",
       "</style>\n",
       "<table border=\"1\" class=\"dataframe\">\n",
       "  <thead>\n",
       "    <tr style=\"text-align: right;\">\n",
       "      <th></th>\n",
       "      <th>Movie_Title</th>\n",
       "      <th>Year</th>\n",
       "      <th>Duration</th>\n",
       "      <th>Genre</th>\n",
       "      <th>Star_rating</th>\n",
       "      <th>Votes</th>\n",
       "      <th>Director</th>\n",
       "      <th>Film_Rating</th>\n",
       "      <th>Meta_Score</th>\n",
       "      <th>Title_Gross</th>\n",
       "      <th>Gross_Value</th>\n",
       "    </tr>\n",
       "  </thead>\n",
       "  <tbody>\n",
       "    <tr>\n",
       "      <td>0</td>\n",
       "      <td>The Hunt</td>\n",
       "      <td>2012</td>\n",
       "      <td>115</td>\n",
       "      <td>Drama</td>\n",
       "      <td>8.3</td>\n",
       "      <td>259,060</td>\n",
       "      <td>Thomas Vinterberg</td>\n",
       "      <td>R</td>\n",
       "      <td>77</td>\n",
       "      <td>$0.69M</td>\n",
       "      <td>687185</td>\n",
       "    </tr>\n",
       "    <tr>\n",
       "      <td>1</td>\n",
       "      <td>Birdman or (The Unexpected Virtue of Ignorance)</td>\n",
       "      <td>2014</td>\n",
       "      <td>119</td>\n",
       "      <td>Comedy, Drama</td>\n",
       "      <td>7.7</td>\n",
       "      <td>550,031</td>\n",
       "      <td>Alejandro G. Iñárritu</td>\n",
       "      <td>R</td>\n",
       "      <td>87</td>\n",
       "      <td>$42.34M</td>\n",
       "      <td>42340598</td>\n",
       "    </tr>\n",
       "    <tr>\n",
       "      <td>2</td>\n",
       "      <td>Whiplash</td>\n",
       "      <td>2014</td>\n",
       "      <td>106</td>\n",
       "      <td>Drama, Music</td>\n",
       "      <td>8.5</td>\n",
       "      <td>664,401</td>\n",
       "      <td>Damien Chazelle</td>\n",
       "      <td>R</td>\n",
       "      <td>88</td>\n",
       "      <td>$13.09M</td>\n",
       "      <td>13092000</td>\n",
       "    </tr>\n",
       "    <tr>\n",
       "      <td>3</td>\n",
       "      <td>Atonement</td>\n",
       "      <td>2007</td>\n",
       "      <td>123</td>\n",
       "      <td>Drama, Mystery, Romance</td>\n",
       "      <td>7.8</td>\n",
       "      <td>237,376</td>\n",
       "      <td>Joe Wright</td>\n",
       "      <td>R</td>\n",
       "      <td>85</td>\n",
       "      <td>$50.93M</td>\n",
       "      <td>50927067</td>\n",
       "    </tr>\n",
       "    <tr>\n",
       "      <td>4</td>\n",
       "      <td>Oldboy</td>\n",
       "      <td>2003</td>\n",
       "      <td>120</td>\n",
       "      <td>Action, Drama, Mystery</td>\n",
       "      <td>8.4</td>\n",
       "      <td>485,237</td>\n",
       "      <td>Chan-wook Park</td>\n",
       "      <td>R</td>\n",
       "      <td>77</td>\n",
       "      <td>$0.71M</td>\n",
       "      <td>707481</td>\n",
       "    </tr>\n",
       "    <tr>\n",
       "      <td>...</td>\n",
       "      <td>...</td>\n",
       "      <td>...</td>\n",
       "      <td>...</td>\n",
       "      <td>...</td>\n",
       "      <td>...</td>\n",
       "      <td>...</td>\n",
       "      <td>...</td>\n",
       "      <td>...</td>\n",
       "      <td>...</td>\n",
       "      <td>...</td>\n",
       "      <td>...</td>\n",
       "    </tr>\n",
       "    <tr>\n",
       "      <td>93</td>\n",
       "      <td>Burning</td>\n",
       "      <td>2018</td>\n",
       "      <td>148</td>\n",
       "      <td>Drama, Mystery</td>\n",
       "      <td>7.6</td>\n",
       "      <td>37,435</td>\n",
       "      <td>Chang-dong Lee</td>\n",
       "      <td>Not Rated</td>\n",
       "      <td>90</td>\n",
       "      <td>$0.72M</td>\n",
       "      <td>718991</td>\n",
       "    </tr>\n",
       "    <tr>\n",
       "      <td>94</td>\n",
       "      <td>Shi</td>\n",
       "      <td>2010</td>\n",
       "      <td>139</td>\n",
       "      <td>Drama</td>\n",
       "      <td>7.8</td>\n",
       "      <td>9,527</td>\n",
       "      <td>Chang-dong Lee</td>\n",
       "      <td>TV-PG</td>\n",
       "      <td>87</td>\n",
       "      <td>$0.36M</td>\n",
       "      <td>355044</td>\n",
       "    </tr>\n",
       "    <tr>\n",
       "      <td>95</td>\n",
       "      <td>Milyang</td>\n",
       "      <td>2007</td>\n",
       "      <td>142</td>\n",
       "      <td>Drama</td>\n",
       "      <td>7.5</td>\n",
       "      <td>6,258</td>\n",
       "      <td>Chang-dong Lee</td>\n",
       "      <td>Not Rated</td>\n",
       "      <td>84</td>\n",
       "      <td>none</td>\n",
       "      <td>none</td>\n",
       "    </tr>\n",
       "    <tr>\n",
       "      <td>96</td>\n",
       "      <td>Blade Runner 2049</td>\n",
       "      <td>2017</td>\n",
       "      <td>164</td>\n",
       "      <td>Action, Drama, Mystery</td>\n",
       "      <td>8.0</td>\n",
       "      <td>420,293</td>\n",
       "      <td>Denis Villeneuve</td>\n",
       "      <td>R</td>\n",
       "      <td>81</td>\n",
       "      <td>$92.05M</td>\n",
       "      <td>92054159</td>\n",
       "    </tr>\n",
       "    <tr>\n",
       "      <td>97</td>\n",
       "      <td>Human</td>\n",
       "      <td>2015</td>\n",
       "      <td>190</td>\n",
       "      <td>Documentary</td>\n",
       "      <td>8.7</td>\n",
       "      <td>6,845</td>\n",
       "      <td>Yann Arthus-Bertrand</td>\n",
       "      <td>Not Rated</td>\n",
       "      <td>none</td>\n",
       "      <td>none</td>\n",
       "      <td>none</td>\n",
       "    </tr>\n",
       "  </tbody>\n",
       "</table>\n",
       "<p>98 rows × 11 columns</p>\n",
       "</div>"
      ],
      "text/plain": [
       "                                        Movie_Title  Year  Duration  \\\n",
       "0                                          The Hunt  2012       115   \n",
       "1   Birdman or (The Unexpected Virtue of Ignorance)  2014       119   \n",
       "2                                          Whiplash  2014       106   \n",
       "3                                         Atonement  2007       123   \n",
       "4                                            Oldboy  2003       120   \n",
       "..                                              ...   ...       ...   \n",
       "93                                          Burning  2018       148   \n",
       "94                                              Shi  2010       139   \n",
       "95                                          Milyang  2007       142   \n",
       "96                                Blade Runner 2049  2017       164   \n",
       "97                                            Human  2015       190   \n",
       "\n",
       "                      Genre  Star_rating    Votes               Director  \\\n",
       "0                     Drama          8.3  259,060      Thomas Vinterberg   \n",
       "1             Comedy, Drama          7.7  550,031  Alejandro G. Iñárritu   \n",
       "2              Drama, Music          8.5  664,401        Damien Chazelle   \n",
       "3   Drama, Mystery, Romance          7.8  237,376             Joe Wright   \n",
       "4    Action, Drama, Mystery          8.4  485,237         Chan-wook Park   \n",
       "..                      ...          ...      ...                    ...   \n",
       "93           Drama, Mystery          7.6   37,435         Chang-dong Lee   \n",
       "94                    Drama          7.8    9,527         Chang-dong Lee   \n",
       "95                    Drama          7.5    6,258         Chang-dong Lee   \n",
       "96   Action, Drama, Mystery          8.0  420,293       Denis Villeneuve   \n",
       "97              Documentary          8.7    6,845   Yann Arthus-Bertrand   \n",
       "\n",
       "   Film_Rating Meta_Score Title_Gross Gross_Value  \n",
       "0            R         77      $0.69M      687185  \n",
       "1            R         87     $42.34M    42340598  \n",
       "2            R         88     $13.09M    13092000  \n",
       "3            R         85     $50.93M    50927067  \n",
       "4            R         77      $0.71M      707481  \n",
       "..         ...        ...         ...         ...  \n",
       "93   Not Rated         90      $0.72M      718991  \n",
       "94       TV-PG         87      $0.36M      355044  \n",
       "95   Not Rated         84        none        none  \n",
       "96           R         81     $92.05M    92054159  \n",
       "97   Not Rated       none        none        none  \n",
       "\n",
       "[98 rows x 11 columns]"
      ]
     },
     "execution_count": 10,
     "metadata": {},
     "output_type": "execute_result"
    }
   ],
   "source": [
    "title_data"
   ]
  },
  {
   "cell_type": "code",
   "execution_count": 11,
   "metadata": {},
   "outputs": [
    {
     "data": {
      "text/html": [
       "        <script type=\"text/javascript\">\n",
       "        window.PlotlyConfig = {MathJaxConfig: 'local'};\n",
       "        if (window.MathJax) {MathJax.Hub.Config({SVG: {font: \"STIX-Web\"}});}\n",
       "        if (typeof require !== 'undefined') {\n",
       "        require.undef(\"plotly\");\n",
       "        requirejs.config({\n",
       "            paths: {\n",
       "                'plotly': ['https://cdn.plot.ly/plotly-latest.min']\n",
       "            }\n",
       "        });\n",
       "        require(['plotly'], function(Plotly) {\n",
       "            window._Plotly = Plotly;\n",
       "        });\n",
       "        }\n",
       "        </script>\n",
       "        "
      ]
     },
     "metadata": {},
     "output_type": "display_data"
    },
    {
     "data": {
      "application/vnd.plotly.v1+json": {
       "config": {
        "linkText": "Export to plot.ly",
        "plotlyServerURL": "https://plot.ly",
        "showLink": false
       },
       "data": [
        {
         "marker": {
          "color": "red",
          "opacity": 0.5,
          "size": 7
         },
         "mode": "markers",
         "text": [
          "The Hunt",
          "Birdman or (The Unexpected Virtue of Ignorance)",
          "Whiplash",
          "Atonement",
          "Oldboy",
          "Mulholland Dr.",
          "There Will Be Blood",
          "Children of Men",
          "Holy Motors",
          "In the Mood for Love",
          "Sseo-ni",
          "Battle Royale",
          "Amélie",
          "Memento",
          "Eternal Sunshine of the Spotless Mind",
          "Let the Right One In",
          "Kokuhaku",
          "The Chaser",
          "Drive",
          "Capote",
          "Lost in Translation",
          "Pan's Labyrinth",
          "Take Shelter",
          "The Tree of Life",
          "Spirited Away",
          "WALL·E",
          "The Secret in Their Eyes",
          "4 Months, 3 Weeks and 2 Days",
          "Zodiac",
          "Before Sunset",
          "Relatos salvajes",
          "Michael Clayton",
          "Gosford Park",
          "City of Life and Death",
          "The Assassination of Jesse James by the Coward Robert Ford",
          "Boyhood",
          "Ookami kodomo no Ame to Yuki",
          "Caché",
          "Sideways",
          "No Country for Old Men",
          "Blancanieves",
          "Tinker Tailor Soldier Spy",
          "Ex Machina",
          "The White Ribbon",
          "Synecdoche, New York",
          "Waltz with Bashir",
          "Eastern Promises",
          "I Saw the Devil",
          "Persepolis",
          "Fantastic Mr. Fox",
          "The Return",
          "Nebraska",
          "Force Majeure",
          "The Pianist",
          "The Lives of Others",
          "Yi Yi",
          "13 Assassins",
          "Talk to Her",
          "Werckmeister harmóniák",
          "The New World",
          "Downfall",
          "Still Walking",
          "Memories of Murder",
          "Certified Copy",
          "Summer Hours",
          "A Bittersweet Life",
          "Shame",
          "The Great Beauty",
          "Songs from the Second Floor",
          "Russian Ark",
          "45 Years",
          "The Cove",
          "Samsara",
          "3-Iron",
          "Gui tu lie che",
          "The Revenant",
          "The Big Short",
          "The Turin Horse",
          "Arrival",
          "The Handmaiden",
          "Locke",
          "Gone Baby Gone",
          "Spotlight",
          "The Act of Killing",
          "Parasite",
          "The Lighthouse",
          "Jiang hu er nü",
          "The Wailing",
          "Long Day's Journey Into Night",
          "The Square",
          "The Road",
          "Hell or High Water",
          "Sicario",
          "Burning",
          "Shi",
          "Milyang",
          "Blade Runner 2049",
          "Human"
         ],
         "type": "scatter",
         "x": [
          "Drama",
          "Comedy, Drama",
          "Drama, Music",
          "Drama, Mystery, Romance",
          "Action, Drama, Mystery",
          "Drama, Mystery, Thriller",
          "Drama",
          "Drama, Thriller",
          "Drama, Fantasy",
          "Drama, Romance",
          "Comedy, Drama",
          "Adventure, Drama, Sci-Fi",
          "Comedy, Romance",
          "Mystery, Thriller",
          "Drama, Romance, Sci-Fi",
          "Drama, Horror, Romance",
          "Drama, Thriller",
          "Action, Crime, Thriller",
          "Crime, Drama",
          "Biography, Crime, Drama",
          "Drama, Romance",
          "Drama, Fantasy, War",
          "Drama, Horror, Thriller",
          "Drama, Fantasy",
          "Animation, Adventure, Family",
          "Animation, Adventure, Family",
          "Drama, Mystery, Romance",
          "Drama",
          "Crime, Drama, Mystery",
          "Drama, Romance",
          "Comedy, Drama, Thriller",
          "Crime, Drama, Mystery",
          "Comedy, Drama, Mystery",
          "Drama, History, War",
          "Biography, Crime, Drama",
          "Drama",
          "Animation, Drama, Family",
          "Drama, Mystery, Thriller",
          "Comedy, Drama, Romance",
          "Crime, Drama, Thriller",
          "Drama, Fantasy",
          "Drama, Mystery, Thriller",
          "Drama, Mystery, Sci-Fi",
          "Drama, History, Mystery",
          "Comedy, Drama",
          "Documentary, Animation, Biography",
          "Action, Crime, Drama",
          "Action, Crime, Drama",
          "Animation, Biography, Drama",
          "Animation, Adventure, Comedy",
          "Drama",
          "Adventure, Comedy, Drama",
          "Comedy, Drama",
          "Biography, Drama, Music",
          "Drama, Mystery, Thriller",
          "Drama, Romance",
          "Action, Adventure, Drama",
          "Drama, Mystery, Romance",
          "Drama, Mystery",
          "Biography, Drama, History",
          "Biography, Drama, History",
          "Drama",
          "Action, Crime, Drama",
          "Drama, Romance",
          "Drama, Family",
          "Action, Crime, Drama",
          "Drama",
          "Drama",
          "Comedy, Drama",
          "Drama, Fantasy, History",
          "Drama, Romance",
          "Documentary, Biography, Crime",
          "Documentary, Music",
          "Crime, Drama, Romance",
          "Documentary, Drama",
          "Action, Adventure, Biography",
          "Biography, Comedy, Drama",
          "Drama",
          "Drama, Mystery, Sci-Fi",
          "Drama, Romance, Thriller",
          "Drama",
          "Crime, Drama, Mystery",
          "Biography, Crime, Drama",
          "Documentary, Biography, Crime",
          "Comedy, Drama, Thriller",
          "Drama, Fantasy, Horror",
          "Crime, Drama, Romance",
          "Horror, Mystery, Thriller",
          "Drama, Mystery",
          "Comedy, Drama",
          "Drama",
          "Action, Crime, Drama",
          "Action, Crime, Drama",
          "Drama, Mystery",
          "Drama",
          "Drama",
          "Action, Drama, Mystery",
          "Documentary"
         ],
         "y": [
          8.3,
          7.7,
          8.5,
          7.8,
          8.4,
          8,
          8.2,
          7.9,
          7.1,
          8.1,
          7.8,
          7.6,
          8.3,
          8.4,
          8.3,
          7.9,
          7.8,
          7.9,
          7.8,
          7.3,
          7.7,
          8.2,
          7.4,
          6.8,
          8.6,
          8.4,
          8.2,
          7.9,
          7.7,
          8,
          8.1,
          7.2,
          7.2,
          7.7,
          7.5,
          7.9,
          8.1,
          7.3,
          7.5,
          8.1,
          7.5,
          7.1,
          7.7,
          7.8,
          7.6,
          8,
          7.6,
          7.8,
          8,
          7.9,
          8,
          7.7,
          7.3,
          8.5,
          8.4,
          8.1,
          7.6,
          7.9,
          8.2,
          6.7,
          8.2,
          8,
          8.1,
          7.3,
          7.2,
          7.6,
          7.2,
          7.8,
          7.6,
          7.4,
          7.1,
          8.4,
          8.5,
          8,
          7.7,
          8,
          7.8,
          7.8,
          7.9,
          8.1,
          7.1,
          7.6,
          8.1,
          8.2,
          8.6,
          7.7,
          7,
          7.5,
          7.2,
          7.2,
          7.2,
          7.6,
          7.6,
          7.6,
          7.8,
          7.5,
          8,
          8.7
         ]
        }
       ],
       "layout": {
        "hovermode": "closest",
        "paper_bgcolor": "rgb(243, 243, 243)",
        "plot_bgcolor": "rgb(243, 243, 243)",
        "template": {
         "data": {
          "bar": [
           {
            "error_x": {
             "color": "#2a3f5f"
            },
            "error_y": {
             "color": "#2a3f5f"
            },
            "marker": {
             "line": {
              "color": "#E5ECF6",
              "width": 0.5
             }
            },
            "type": "bar"
           }
          ],
          "barpolar": [
           {
            "marker": {
             "line": {
              "color": "#E5ECF6",
              "width": 0.5
             }
            },
            "type": "barpolar"
           }
          ],
          "carpet": [
           {
            "aaxis": {
             "endlinecolor": "#2a3f5f",
             "gridcolor": "white",
             "linecolor": "white",
             "minorgridcolor": "white",
             "startlinecolor": "#2a3f5f"
            },
            "baxis": {
             "endlinecolor": "#2a3f5f",
             "gridcolor": "white",
             "linecolor": "white",
             "minorgridcolor": "white",
             "startlinecolor": "#2a3f5f"
            },
            "type": "carpet"
           }
          ],
          "choropleth": [
           {
            "colorbar": {
             "outlinewidth": 0,
             "ticks": ""
            },
            "type": "choropleth"
           }
          ],
          "contour": [
           {
            "colorbar": {
             "outlinewidth": 0,
             "ticks": ""
            },
            "colorscale": [
             [
              0,
              "#0d0887"
             ],
             [
              0.1111111111111111,
              "#46039f"
             ],
             [
              0.2222222222222222,
              "#7201a8"
             ],
             [
              0.3333333333333333,
              "#9c179e"
             ],
             [
              0.4444444444444444,
              "#bd3786"
             ],
             [
              0.5555555555555556,
              "#d8576b"
             ],
             [
              0.6666666666666666,
              "#ed7953"
             ],
             [
              0.7777777777777778,
              "#fb9f3a"
             ],
             [
              0.8888888888888888,
              "#fdca26"
             ],
             [
              1,
              "#f0f921"
             ]
            ],
            "type": "contour"
           }
          ],
          "contourcarpet": [
           {
            "colorbar": {
             "outlinewidth": 0,
             "ticks": ""
            },
            "type": "contourcarpet"
           }
          ],
          "heatmap": [
           {
            "colorbar": {
             "outlinewidth": 0,
             "ticks": ""
            },
            "colorscale": [
             [
              0,
              "#0d0887"
             ],
             [
              0.1111111111111111,
              "#46039f"
             ],
             [
              0.2222222222222222,
              "#7201a8"
             ],
             [
              0.3333333333333333,
              "#9c179e"
             ],
             [
              0.4444444444444444,
              "#bd3786"
             ],
             [
              0.5555555555555556,
              "#d8576b"
             ],
             [
              0.6666666666666666,
              "#ed7953"
             ],
             [
              0.7777777777777778,
              "#fb9f3a"
             ],
             [
              0.8888888888888888,
              "#fdca26"
             ],
             [
              1,
              "#f0f921"
             ]
            ],
            "type": "heatmap"
           }
          ],
          "heatmapgl": [
           {
            "colorbar": {
             "outlinewidth": 0,
             "ticks": ""
            },
            "colorscale": [
             [
              0,
              "#0d0887"
             ],
             [
              0.1111111111111111,
              "#46039f"
             ],
             [
              0.2222222222222222,
              "#7201a8"
             ],
             [
              0.3333333333333333,
              "#9c179e"
             ],
             [
              0.4444444444444444,
              "#bd3786"
             ],
             [
              0.5555555555555556,
              "#d8576b"
             ],
             [
              0.6666666666666666,
              "#ed7953"
             ],
             [
              0.7777777777777778,
              "#fb9f3a"
             ],
             [
              0.8888888888888888,
              "#fdca26"
             ],
             [
              1,
              "#f0f921"
             ]
            ],
            "type": "heatmapgl"
           }
          ],
          "histogram": [
           {
            "marker": {
             "colorbar": {
              "outlinewidth": 0,
              "ticks": ""
             }
            },
            "type": "histogram"
           }
          ],
          "histogram2d": [
           {
            "colorbar": {
             "outlinewidth": 0,
             "ticks": ""
            },
            "colorscale": [
             [
              0,
              "#0d0887"
             ],
             [
              0.1111111111111111,
              "#46039f"
             ],
             [
              0.2222222222222222,
              "#7201a8"
             ],
             [
              0.3333333333333333,
              "#9c179e"
             ],
             [
              0.4444444444444444,
              "#bd3786"
             ],
             [
              0.5555555555555556,
              "#d8576b"
             ],
             [
              0.6666666666666666,
              "#ed7953"
             ],
             [
              0.7777777777777778,
              "#fb9f3a"
             ],
             [
              0.8888888888888888,
              "#fdca26"
             ],
             [
              1,
              "#f0f921"
             ]
            ],
            "type": "histogram2d"
           }
          ],
          "histogram2dcontour": [
           {
            "colorbar": {
             "outlinewidth": 0,
             "ticks": ""
            },
            "colorscale": [
             [
              0,
              "#0d0887"
             ],
             [
              0.1111111111111111,
              "#46039f"
             ],
             [
              0.2222222222222222,
              "#7201a8"
             ],
             [
              0.3333333333333333,
              "#9c179e"
             ],
             [
              0.4444444444444444,
              "#bd3786"
             ],
             [
              0.5555555555555556,
              "#d8576b"
             ],
             [
              0.6666666666666666,
              "#ed7953"
             ],
             [
              0.7777777777777778,
              "#fb9f3a"
             ],
             [
              0.8888888888888888,
              "#fdca26"
             ],
             [
              1,
              "#f0f921"
             ]
            ],
            "type": "histogram2dcontour"
           }
          ],
          "mesh3d": [
           {
            "colorbar": {
             "outlinewidth": 0,
             "ticks": ""
            },
            "type": "mesh3d"
           }
          ],
          "parcoords": [
           {
            "line": {
             "colorbar": {
              "outlinewidth": 0,
              "ticks": ""
             }
            },
            "type": "parcoords"
           }
          ],
          "pie": [
           {
            "automargin": true,
            "type": "pie"
           }
          ],
          "scatter": [
           {
            "marker": {
             "colorbar": {
              "outlinewidth": 0,
              "ticks": ""
             }
            },
            "type": "scatter"
           }
          ],
          "scatter3d": [
           {
            "line": {
             "colorbar": {
              "outlinewidth": 0,
              "ticks": ""
             }
            },
            "marker": {
             "colorbar": {
              "outlinewidth": 0,
              "ticks": ""
             }
            },
            "type": "scatter3d"
           }
          ],
          "scattercarpet": [
           {
            "marker": {
             "colorbar": {
              "outlinewidth": 0,
              "ticks": ""
             }
            },
            "type": "scattercarpet"
           }
          ],
          "scattergeo": [
           {
            "marker": {
             "colorbar": {
              "outlinewidth": 0,
              "ticks": ""
             }
            },
            "type": "scattergeo"
           }
          ],
          "scattergl": [
           {
            "marker": {
             "colorbar": {
              "outlinewidth": 0,
              "ticks": ""
             }
            },
            "type": "scattergl"
           }
          ],
          "scattermapbox": [
           {
            "marker": {
             "colorbar": {
              "outlinewidth": 0,
              "ticks": ""
             }
            },
            "type": "scattermapbox"
           }
          ],
          "scatterpolar": [
           {
            "marker": {
             "colorbar": {
              "outlinewidth": 0,
              "ticks": ""
             }
            },
            "type": "scatterpolar"
           }
          ],
          "scatterpolargl": [
           {
            "marker": {
             "colorbar": {
              "outlinewidth": 0,
              "ticks": ""
             }
            },
            "type": "scatterpolargl"
           }
          ],
          "scatterternary": [
           {
            "marker": {
             "colorbar": {
              "outlinewidth": 0,
              "ticks": ""
             }
            },
            "type": "scatterternary"
           }
          ],
          "surface": [
           {
            "colorbar": {
             "outlinewidth": 0,
             "ticks": ""
            },
            "colorscale": [
             [
              0,
              "#0d0887"
             ],
             [
              0.1111111111111111,
              "#46039f"
             ],
             [
              0.2222222222222222,
              "#7201a8"
             ],
             [
              0.3333333333333333,
              "#9c179e"
             ],
             [
              0.4444444444444444,
              "#bd3786"
             ],
             [
              0.5555555555555556,
              "#d8576b"
             ],
             [
              0.6666666666666666,
              "#ed7953"
             ],
             [
              0.7777777777777778,
              "#fb9f3a"
             ],
             [
              0.8888888888888888,
              "#fdca26"
             ],
             [
              1,
              "#f0f921"
             ]
            ],
            "type": "surface"
           }
          ],
          "table": [
           {
            "cells": {
             "fill": {
              "color": "#EBF0F8"
             },
             "line": {
              "color": "white"
             }
            },
            "header": {
             "fill": {
              "color": "#C8D4E3"
             },
             "line": {
              "color": "white"
             }
            },
            "type": "table"
           }
          ]
         },
         "layout": {
          "annotationdefaults": {
           "arrowcolor": "#2a3f5f",
           "arrowhead": 0,
           "arrowwidth": 1
          },
          "coloraxis": {
           "colorbar": {
            "outlinewidth": 0,
            "ticks": ""
           }
          },
          "colorscale": {
           "diverging": [
            [
             0,
             "#8e0152"
            ],
            [
             0.1,
             "#c51b7d"
            ],
            [
             0.2,
             "#de77ae"
            ],
            [
             0.3,
             "#f1b6da"
            ],
            [
             0.4,
             "#fde0ef"
            ],
            [
             0.5,
             "#f7f7f7"
            ],
            [
             0.6,
             "#e6f5d0"
            ],
            [
             0.7,
             "#b8e186"
            ],
            [
             0.8,
             "#7fbc41"
            ],
            [
             0.9,
             "#4d9221"
            ],
            [
             1,
             "#276419"
            ]
           ],
           "sequential": [
            [
             0,
             "#0d0887"
            ],
            [
             0.1111111111111111,
             "#46039f"
            ],
            [
             0.2222222222222222,
             "#7201a8"
            ],
            [
             0.3333333333333333,
             "#9c179e"
            ],
            [
             0.4444444444444444,
             "#bd3786"
            ],
            [
             0.5555555555555556,
             "#d8576b"
            ],
            [
             0.6666666666666666,
             "#ed7953"
            ],
            [
             0.7777777777777778,
             "#fb9f3a"
            ],
            [
             0.8888888888888888,
             "#fdca26"
            ],
            [
             1,
             "#f0f921"
            ]
           ],
           "sequentialminus": [
            [
             0,
             "#0d0887"
            ],
            [
             0.1111111111111111,
             "#46039f"
            ],
            [
             0.2222222222222222,
             "#7201a8"
            ],
            [
             0.3333333333333333,
             "#9c179e"
            ],
            [
             0.4444444444444444,
             "#bd3786"
            ],
            [
             0.5555555555555556,
             "#d8576b"
            ],
            [
             0.6666666666666666,
             "#ed7953"
            ],
            [
             0.7777777777777778,
             "#fb9f3a"
            ],
            [
             0.8888888888888888,
             "#fdca26"
            ],
            [
             1,
             "#f0f921"
            ]
           ]
          },
          "colorway": [
           "#636efa",
           "#EF553B",
           "#00cc96",
           "#ab63fa",
           "#FFA15A",
           "#19d3f3",
           "#FF6692",
           "#B6E880",
           "#FF97FF",
           "#FECB52"
          ],
          "font": {
           "color": "#2a3f5f"
          },
          "geo": {
           "bgcolor": "white",
           "lakecolor": "white",
           "landcolor": "#E5ECF6",
           "showlakes": true,
           "showland": true,
           "subunitcolor": "white"
          },
          "hoverlabel": {
           "align": "left"
          },
          "hovermode": "closest",
          "mapbox": {
           "style": "light"
          },
          "paper_bgcolor": "white",
          "plot_bgcolor": "#E5ECF6",
          "polar": {
           "angularaxis": {
            "gridcolor": "white",
            "linecolor": "white",
            "ticks": ""
           },
           "bgcolor": "#E5ECF6",
           "radialaxis": {
            "gridcolor": "white",
            "linecolor": "white",
            "ticks": ""
           }
          },
          "scene": {
           "xaxis": {
            "backgroundcolor": "#E5ECF6",
            "gridcolor": "white",
            "gridwidth": 2,
            "linecolor": "white",
            "showbackground": true,
            "ticks": "",
            "zerolinecolor": "white"
           },
           "yaxis": {
            "backgroundcolor": "#E5ECF6",
            "gridcolor": "white",
            "gridwidth": 2,
            "linecolor": "white",
            "showbackground": true,
            "ticks": "",
            "zerolinecolor": "white"
           },
           "zaxis": {
            "backgroundcolor": "#E5ECF6",
            "gridcolor": "white",
            "gridwidth": 2,
            "linecolor": "white",
            "showbackground": true,
            "ticks": "",
            "zerolinecolor": "white"
           }
          },
          "shapedefaults": {
           "line": {
            "color": "#2a3f5f"
           }
          },
          "ternary": {
           "aaxis": {
            "gridcolor": "white",
            "linecolor": "white",
            "ticks": ""
           },
           "baxis": {
            "gridcolor": "white",
            "linecolor": "white",
            "ticks": ""
           },
           "bgcolor": "#E5ECF6",
           "caxis": {
            "gridcolor": "white",
            "linecolor": "white",
            "ticks": ""
           }
          },
          "title": {
           "x": 0.05
          },
          "xaxis": {
           "automargin": true,
           "gridcolor": "white",
           "linecolor": "white",
           "ticks": "",
           "title": {
            "standoff": 15
           },
           "zerolinecolor": "white",
           "zerolinewidth": 2
          },
          "yaxis": {
           "automargin": true,
           "gridcolor": "white",
           "linecolor": "white",
           "ticks": "",
           "title": {
            "standoff": 15
           },
           "zerolinecolor": "white",
           "zerolinewidth": 2
          }
         }
        },
        "title": {
         "text": "Star Ratings vs Genres  (2000-2020)"
        },
        "xaxis": {
         "gridwidth": 2,
         "showgrid": true,
         "zeroline": true
        },
        "yaxis": {
         "gridwidth": 2,
         "title": {
          "text": "Star Ratings"
         }
        }
       }
      },
      "text/html": [
       "<div>\n",
       "        \n",
       "        \n",
       "            <div id=\"0d4828b8-ab2c-46f4-8a3b-92fdce33324a\" class=\"plotly-graph-div\" style=\"height:525px; width:100%;\"></div>\n",
       "            <script type=\"text/javascript\">\n",
       "                require([\"plotly\"], function(Plotly) {\n",
       "                    window.PLOTLYENV=window.PLOTLYENV || {};\n",
       "                    \n",
       "                if (document.getElementById(\"0d4828b8-ab2c-46f4-8a3b-92fdce33324a\")) {\n",
       "                    Plotly.newPlot(\n",
       "                        '0d4828b8-ab2c-46f4-8a3b-92fdce33324a',\n",
       "                        [{\"marker\": {\"color\": \"red\", \"opacity\": 0.5, \"size\": 7}, \"mode\": \"markers\", \"text\": [\"The Hunt\", \"Birdman or (The Unexpected Virtue of Ignorance)\", \"Whiplash\", \"Atonement\", \"Oldboy\", \"Mulholland Dr.\", \"There Will Be Blood\", \"Children of Men\", \"Holy Motors\", \"In the Mood for Love\", \"Sseo-ni\", \"Battle Royale\", \"Am\\u00e9lie\", \"Memento\", \"Eternal Sunshine of the Spotless Mind\", \"Let the Right One In\", \"Kokuhaku\", \"The Chaser\", \"Drive\", \"Capote\", \"Lost in Translation\", \"Pan's Labyrinth\", \"Take Shelter\", \"The Tree of Life\", \"Spirited Away\", \"WALL\\u00b7E\", \"The Secret in Their Eyes\", \"4 Months, 3 Weeks and 2 Days\", \"Zodiac\", \"Before Sunset\", \"Relatos salvajes\", \"Michael Clayton\", \"Gosford Park\", \"City of Life and Death\", \"The Assassination of Jesse James by the Coward Robert Ford\", \"Boyhood\", \"Ookami kodomo no Ame to Yuki\", \"Cach\\u00e9\", \"Sideways\", \"No Country for Old Men\", \"Blancanieves\", \"Tinker Tailor Soldier Spy\", \"Ex Machina\", \"The White Ribbon\", \"Synecdoche, New York\", \"Waltz with Bashir\", \"Eastern Promises\", \"I Saw the Devil\", \"Persepolis\", \"Fantastic Mr. Fox\", \"The Return\", \"Nebraska\", \"Force Majeure\", \"The Pianist\", \"The Lives of Others\", \"Yi Yi\", \"13 Assassins\", \"Talk to Her\", \"Werckmeister harm\\u00f3ni\\u00e1k\", \"The New World\", \"Downfall\", \"Still Walking\", \"Memories of Murder\", \"Certified Copy\", \"Summer Hours\", \"A Bittersweet Life\", \"Shame\", \"The Great Beauty\", \"Songs from the Second Floor\", \"Russian Ark\", \"45 Years\", \"The Cove\", \"Samsara\", \"3-Iron\", \"Gui tu lie che\", \"The Revenant\", \"The Big Short\", \"The Turin Horse\", \"Arrival\", \"The Handmaiden\", \"Locke\", \"Gone Baby Gone\", \"Spotlight\", \"The Act of Killing\", \"Parasite\", \"The Lighthouse\", \"Jiang hu er n\\u00fc\", \"The Wailing\", \"Long Day's Journey Into Night\", \"The Square\", \"The Road\", \"Hell or High Water\", \"Sicario\", \"Burning\", \"Shi\", \"Milyang\", \"Blade Runner 2049\", \"Human\"], \"type\": \"scatter\", \"x\": [\"Drama\", \"Comedy, Drama\", \"Drama, Music\", \"Drama, Mystery, Romance\", \"Action, Drama, Mystery\", \"Drama, Mystery, Thriller\", \"Drama\", \"Drama, Thriller\", \"Drama, Fantasy\", \"Drama, Romance\", \"Comedy, Drama\", \"Adventure, Drama, Sci-Fi\", \"Comedy, Romance\", \"Mystery, Thriller\", \"Drama, Romance, Sci-Fi\", \"Drama, Horror, Romance\", \"Drama, Thriller\", \"Action, Crime, Thriller\", \"Crime, Drama\", \"Biography, Crime, Drama\", \"Drama, Romance\", \"Drama, Fantasy, War\", \"Drama, Horror, Thriller\", \"Drama, Fantasy\", \"Animation, Adventure, Family\", \"Animation, Adventure, Family\", \"Drama, Mystery, Romance\", \"Drama\", \"Crime, Drama, Mystery\", \"Drama, Romance\", \"Comedy, Drama, Thriller\", \"Crime, Drama, Mystery\", \"Comedy, Drama, Mystery\", \"Drama, History, War\", \"Biography, Crime, Drama\", \"Drama\", \"Animation, Drama, Family\", \"Drama, Mystery, Thriller\", \"Comedy, Drama, Romance\", \"Crime, Drama, Thriller\", \"Drama, Fantasy\", \"Drama, Mystery, Thriller\", \"Drama, Mystery, Sci-Fi\", \"Drama, History, Mystery\", \"Comedy, Drama\", \"Documentary, Animation, Biography\", \"Action, Crime, Drama\", \"Action, Crime, Drama\", \"Animation, Biography, Drama\", \"Animation, Adventure, Comedy\", \"Drama\", \"Adventure, Comedy, Drama\", \"Comedy, Drama\", \"Biography, Drama, Music\", \"Drama, Mystery, Thriller\", \"Drama, Romance\", \"Action, Adventure, Drama\", \"Drama, Mystery, Romance\", \"Drama, Mystery\", \"Biography, Drama, History\", \"Biography, Drama, History\", \"Drama\", \"Action, Crime, Drama\", \"Drama, Romance\", \"Drama, Family\", \"Action, Crime, Drama\", \"Drama\", \"Drama\", \"Comedy, Drama\", \"Drama, Fantasy, History\", \"Drama, Romance\", \"Documentary, Biography, Crime\", \"Documentary, Music\", \"Crime, Drama, Romance\", \"Documentary, Drama\", \"Action, Adventure, Biography\", \"Biography, Comedy, Drama\", \"Drama\", \"Drama, Mystery, Sci-Fi\", \"Drama, Romance, Thriller\", \"Drama\", \"Crime, Drama, Mystery\", \"Biography, Crime, Drama\", \"Documentary, Biography, Crime\", \"Comedy, Drama, Thriller\", \"Drama, Fantasy, Horror\", \"Crime, Drama, Romance\", \"Horror, Mystery, Thriller\", \"Drama, Mystery\", \"Comedy, Drama\", \"Drama\", \"Action, Crime, Drama\", \"Action, Crime, Drama\", \"Drama, Mystery\", \"Drama\", \"Drama\", \"Action, Drama, Mystery\", \"Documentary\"], \"y\": [8.3, 7.7, 8.5, 7.8, 8.4, 8.0, 8.2, 7.9, 7.1, 8.1, 7.8, 7.6, 8.3, 8.4, 8.3, 7.9, 7.8, 7.9, 7.8, 7.3, 7.7, 8.2, 7.4, 6.8, 8.6, 8.4, 8.2, 7.9, 7.7, 8.0, 8.1, 7.2, 7.2, 7.7, 7.5, 7.9, 8.1, 7.3, 7.5, 8.1, 7.5, 7.1, 7.7, 7.8, 7.6, 8.0, 7.6, 7.8, 8.0, 7.9, 8.0, 7.7, 7.3, 8.5, 8.4, 8.1, 7.6, 7.9, 8.2, 6.7, 8.2, 8.0, 8.1, 7.3, 7.2, 7.6, 7.2, 7.8, 7.6, 7.4, 7.1, 8.4, 8.5, 8.0, 7.7, 8.0, 7.8, 7.8, 7.9, 8.1, 7.1, 7.6, 8.1, 8.2, 8.6, 7.7, 7.0, 7.5, 7.2, 7.2, 7.2, 7.6, 7.6, 7.6, 7.8, 7.5, 8.0, 8.7]}],\n",
       "                        {\"hovermode\": \"closest\", \"paper_bgcolor\": \"rgb(243, 243, 243)\", \"plot_bgcolor\": \"rgb(243, 243, 243)\", \"template\": {\"data\": {\"bar\": [{\"error_x\": {\"color\": \"#2a3f5f\"}, \"error_y\": {\"color\": \"#2a3f5f\"}, \"marker\": {\"line\": {\"color\": \"#E5ECF6\", \"width\": 0.5}}, \"type\": \"bar\"}], \"barpolar\": [{\"marker\": {\"line\": {\"color\": \"#E5ECF6\", \"width\": 0.5}}, \"type\": \"barpolar\"}], \"carpet\": [{\"aaxis\": {\"endlinecolor\": \"#2a3f5f\", \"gridcolor\": \"white\", \"linecolor\": \"white\", \"minorgridcolor\": \"white\", \"startlinecolor\": \"#2a3f5f\"}, \"baxis\": {\"endlinecolor\": \"#2a3f5f\", \"gridcolor\": \"white\", \"linecolor\": \"white\", \"minorgridcolor\": \"white\", \"startlinecolor\": \"#2a3f5f\"}, \"type\": \"carpet\"}], \"choropleth\": [{\"colorbar\": {\"outlinewidth\": 0, \"ticks\": \"\"}, \"type\": \"choropleth\"}], \"contour\": [{\"colorbar\": {\"outlinewidth\": 0, \"ticks\": \"\"}, \"colorscale\": [[0.0, \"#0d0887\"], [0.1111111111111111, \"#46039f\"], [0.2222222222222222, \"#7201a8\"], [0.3333333333333333, \"#9c179e\"], [0.4444444444444444, \"#bd3786\"], [0.5555555555555556, \"#d8576b\"], [0.6666666666666666, \"#ed7953\"], [0.7777777777777778, \"#fb9f3a\"], [0.8888888888888888, \"#fdca26\"], [1.0, \"#f0f921\"]], \"type\": \"contour\"}], \"contourcarpet\": [{\"colorbar\": {\"outlinewidth\": 0, \"ticks\": \"\"}, \"type\": \"contourcarpet\"}], \"heatmap\": [{\"colorbar\": {\"outlinewidth\": 0, \"ticks\": \"\"}, \"colorscale\": [[0.0, \"#0d0887\"], [0.1111111111111111, \"#46039f\"], [0.2222222222222222, \"#7201a8\"], [0.3333333333333333, \"#9c179e\"], [0.4444444444444444, \"#bd3786\"], [0.5555555555555556, \"#d8576b\"], [0.6666666666666666, \"#ed7953\"], [0.7777777777777778, \"#fb9f3a\"], [0.8888888888888888, \"#fdca26\"], [1.0, \"#f0f921\"]], \"type\": \"heatmap\"}], \"heatmapgl\": [{\"colorbar\": {\"outlinewidth\": 0, \"ticks\": \"\"}, \"colorscale\": [[0.0, \"#0d0887\"], [0.1111111111111111, \"#46039f\"], [0.2222222222222222, \"#7201a8\"], [0.3333333333333333, \"#9c179e\"], [0.4444444444444444, \"#bd3786\"], [0.5555555555555556, \"#d8576b\"], [0.6666666666666666, \"#ed7953\"], [0.7777777777777778, \"#fb9f3a\"], [0.8888888888888888, \"#fdca26\"], [1.0, \"#f0f921\"]], \"type\": \"heatmapgl\"}], \"histogram\": [{\"marker\": {\"colorbar\": {\"outlinewidth\": 0, \"ticks\": \"\"}}, \"type\": \"histogram\"}], \"histogram2d\": [{\"colorbar\": {\"outlinewidth\": 0, \"ticks\": \"\"}, \"colorscale\": [[0.0, \"#0d0887\"], [0.1111111111111111, \"#46039f\"], [0.2222222222222222, \"#7201a8\"], [0.3333333333333333, \"#9c179e\"], [0.4444444444444444, \"#bd3786\"], [0.5555555555555556, \"#d8576b\"], [0.6666666666666666, \"#ed7953\"], [0.7777777777777778, \"#fb9f3a\"], [0.8888888888888888, \"#fdca26\"], [1.0, \"#f0f921\"]], \"type\": \"histogram2d\"}], \"histogram2dcontour\": [{\"colorbar\": {\"outlinewidth\": 0, \"ticks\": \"\"}, \"colorscale\": [[0.0, \"#0d0887\"], [0.1111111111111111, \"#46039f\"], [0.2222222222222222, \"#7201a8\"], [0.3333333333333333, \"#9c179e\"], [0.4444444444444444, \"#bd3786\"], [0.5555555555555556, \"#d8576b\"], [0.6666666666666666, \"#ed7953\"], [0.7777777777777778, \"#fb9f3a\"], [0.8888888888888888, \"#fdca26\"], [1.0, \"#f0f921\"]], \"type\": \"histogram2dcontour\"}], \"mesh3d\": [{\"colorbar\": {\"outlinewidth\": 0, \"ticks\": \"\"}, \"type\": \"mesh3d\"}], \"parcoords\": [{\"line\": {\"colorbar\": {\"outlinewidth\": 0, \"ticks\": \"\"}}, \"type\": \"parcoords\"}], \"pie\": [{\"automargin\": true, \"type\": \"pie\"}], \"scatter\": [{\"marker\": {\"colorbar\": {\"outlinewidth\": 0, \"ticks\": \"\"}}, \"type\": \"scatter\"}], \"scatter3d\": [{\"line\": {\"colorbar\": {\"outlinewidth\": 0, \"ticks\": \"\"}}, \"marker\": {\"colorbar\": {\"outlinewidth\": 0, \"ticks\": \"\"}}, \"type\": \"scatter3d\"}], \"scattercarpet\": [{\"marker\": {\"colorbar\": {\"outlinewidth\": 0, \"ticks\": \"\"}}, \"type\": \"scattercarpet\"}], \"scattergeo\": [{\"marker\": {\"colorbar\": {\"outlinewidth\": 0, \"ticks\": \"\"}}, \"type\": \"scattergeo\"}], \"scattergl\": [{\"marker\": {\"colorbar\": {\"outlinewidth\": 0, \"ticks\": \"\"}}, \"type\": \"scattergl\"}], \"scattermapbox\": [{\"marker\": {\"colorbar\": {\"outlinewidth\": 0, \"ticks\": \"\"}}, \"type\": \"scattermapbox\"}], \"scatterpolar\": [{\"marker\": {\"colorbar\": {\"outlinewidth\": 0, \"ticks\": \"\"}}, \"type\": \"scatterpolar\"}], \"scatterpolargl\": [{\"marker\": {\"colorbar\": {\"outlinewidth\": 0, \"ticks\": \"\"}}, \"type\": \"scatterpolargl\"}], \"scatterternary\": [{\"marker\": {\"colorbar\": {\"outlinewidth\": 0, \"ticks\": \"\"}}, \"type\": \"scatterternary\"}], \"surface\": [{\"colorbar\": {\"outlinewidth\": 0, \"ticks\": \"\"}, \"colorscale\": [[0.0, \"#0d0887\"], [0.1111111111111111, \"#46039f\"], [0.2222222222222222, \"#7201a8\"], [0.3333333333333333, \"#9c179e\"], [0.4444444444444444, \"#bd3786\"], [0.5555555555555556, \"#d8576b\"], [0.6666666666666666, \"#ed7953\"], [0.7777777777777778, \"#fb9f3a\"], [0.8888888888888888, \"#fdca26\"], [1.0, \"#f0f921\"]], \"type\": \"surface\"}], \"table\": [{\"cells\": {\"fill\": {\"color\": \"#EBF0F8\"}, \"line\": {\"color\": \"white\"}}, \"header\": {\"fill\": {\"color\": \"#C8D4E3\"}, \"line\": {\"color\": \"white\"}}, \"type\": \"table\"}]}, \"layout\": {\"annotationdefaults\": {\"arrowcolor\": \"#2a3f5f\", \"arrowhead\": 0, \"arrowwidth\": 1}, \"coloraxis\": {\"colorbar\": {\"outlinewidth\": 0, \"ticks\": \"\"}}, \"colorscale\": {\"diverging\": [[0, \"#8e0152\"], [0.1, \"#c51b7d\"], [0.2, \"#de77ae\"], [0.3, \"#f1b6da\"], [0.4, \"#fde0ef\"], [0.5, \"#f7f7f7\"], [0.6, \"#e6f5d0\"], [0.7, \"#b8e186\"], [0.8, \"#7fbc41\"], [0.9, \"#4d9221\"], [1, \"#276419\"]], \"sequential\": [[0.0, \"#0d0887\"], [0.1111111111111111, \"#46039f\"], [0.2222222222222222, \"#7201a8\"], [0.3333333333333333, \"#9c179e\"], [0.4444444444444444, \"#bd3786\"], [0.5555555555555556, \"#d8576b\"], [0.6666666666666666, \"#ed7953\"], [0.7777777777777778, \"#fb9f3a\"], [0.8888888888888888, \"#fdca26\"], [1.0, \"#f0f921\"]], \"sequentialminus\": [[0.0, \"#0d0887\"], [0.1111111111111111, \"#46039f\"], [0.2222222222222222, \"#7201a8\"], [0.3333333333333333, \"#9c179e\"], [0.4444444444444444, \"#bd3786\"], [0.5555555555555556, \"#d8576b\"], [0.6666666666666666, \"#ed7953\"], [0.7777777777777778, \"#fb9f3a\"], [0.8888888888888888, \"#fdca26\"], [1.0, \"#f0f921\"]]}, \"colorway\": [\"#636efa\", \"#EF553B\", \"#00cc96\", \"#ab63fa\", \"#FFA15A\", \"#19d3f3\", \"#FF6692\", \"#B6E880\", \"#FF97FF\", \"#FECB52\"], \"font\": {\"color\": \"#2a3f5f\"}, \"geo\": {\"bgcolor\": \"white\", \"lakecolor\": \"white\", \"landcolor\": \"#E5ECF6\", \"showlakes\": true, \"showland\": true, \"subunitcolor\": \"white\"}, \"hoverlabel\": {\"align\": \"left\"}, \"hovermode\": \"closest\", \"mapbox\": {\"style\": \"light\"}, \"paper_bgcolor\": \"white\", \"plot_bgcolor\": \"#E5ECF6\", \"polar\": {\"angularaxis\": {\"gridcolor\": \"white\", \"linecolor\": \"white\", \"ticks\": \"\"}, \"bgcolor\": \"#E5ECF6\", \"radialaxis\": {\"gridcolor\": \"white\", \"linecolor\": \"white\", \"ticks\": \"\"}}, \"scene\": {\"xaxis\": {\"backgroundcolor\": \"#E5ECF6\", \"gridcolor\": \"white\", \"gridwidth\": 2, \"linecolor\": \"white\", \"showbackground\": true, \"ticks\": \"\", \"zerolinecolor\": \"white\"}, \"yaxis\": {\"backgroundcolor\": \"#E5ECF6\", \"gridcolor\": \"white\", \"gridwidth\": 2, \"linecolor\": \"white\", \"showbackground\": true, \"ticks\": \"\", \"zerolinecolor\": \"white\"}, \"zaxis\": {\"backgroundcolor\": \"#E5ECF6\", \"gridcolor\": \"white\", \"gridwidth\": 2, \"linecolor\": \"white\", \"showbackground\": true, \"ticks\": \"\", \"zerolinecolor\": \"white\"}}, \"shapedefaults\": {\"line\": {\"color\": \"#2a3f5f\"}}, \"ternary\": {\"aaxis\": {\"gridcolor\": \"white\", \"linecolor\": \"white\", \"ticks\": \"\"}, \"baxis\": {\"gridcolor\": \"white\", \"linecolor\": \"white\", \"ticks\": \"\"}, \"bgcolor\": \"#E5ECF6\", \"caxis\": {\"gridcolor\": \"white\", \"linecolor\": \"white\", \"ticks\": \"\"}}, \"title\": {\"x\": 0.05}, \"xaxis\": {\"automargin\": true, \"gridcolor\": \"white\", \"linecolor\": \"white\", \"ticks\": \"\", \"title\": {\"standoff\": 15}, \"zerolinecolor\": \"white\", \"zerolinewidth\": 2}, \"yaxis\": {\"automargin\": true, \"gridcolor\": \"white\", \"linecolor\": \"white\", \"ticks\": \"\", \"title\": {\"standoff\": 15}, \"zerolinecolor\": \"white\", \"zerolinewidth\": 2}}}, \"title\": {\"text\": \"Star Ratings vs Genres  (2000-2020)\"}, \"xaxis\": {\"gridwidth\": 2, \"showgrid\": true, \"zeroline\": true}, \"yaxis\": {\"gridwidth\": 2, \"title\": {\"text\": \"Star Ratings\"}}},\n",
       "                        {\"responsive\": true}\n",
       "                    ).then(function(){\n",
       "                            \n",
       "var gd = document.getElementById('0d4828b8-ab2c-46f4-8a3b-92fdce33324a');\n",
       "var x = new MutationObserver(function (mutations, observer) {{\n",
       "        var display = window.getComputedStyle(gd).display;\n",
       "        if (!display || display === 'none') {{\n",
       "            console.log([gd, 'removed!']);\n",
       "            Plotly.purge(gd);\n",
       "            observer.disconnect();\n",
       "        }}\n",
       "}});\n",
       "\n",
       "// Listen for the removal of the full notebook cells\n",
       "var notebookContainer = gd.closest('#notebook-container');\n",
       "if (notebookContainer) {{\n",
       "    x.observe(notebookContainer, {childList: true});\n",
       "}}\n",
       "\n",
       "// Listen for the clearing of the current output cell\n",
       "var outputEl = gd.closest('.output');\n",
       "if (outputEl) {{\n",
       "    x.observe(outputEl, {childList: true});\n",
       "}}\n",
       "\n",
       "                        })\n",
       "                };\n",
       "                });\n",
       "            </script>\n",
       "        </div>"
      ]
     },
     "metadata": {},
     "output_type": "display_data"
    }
   ],
   "source": [
    "# mandatory imports for offline plotting of plotly\n",
    "from plotly.offline import init_notebook_mode, iplot\n",
    "import plotly.graph_objs as go\n",
    "\n",
    "trace1 = go.Scatter( # for plotting scatter graph, go.Scatter is used\n",
    "        y = title_data.Star_rating,\n",
    "        x = title_data.Genre,\n",
    "        marker = dict(color = 'red', size = 7, opacity = 0.5), # marker attributes inside graph\n",
    "        mode = \"markers\",\n",
    "        text = title_data.Movie_Title # text for each marker during hover\n",
    ")\n",
    "\n",
    "data = [trace1]\n",
    "\n",
    "layout = go.Layout(\n",
    "    title =   'Star Ratings vs Genres  (2000-2020)',\n",
    "    xaxis = dict(showgrid = True, zeroline = True, gridwidth = 2), \n",
    "    yaxis = dict(title = 'Star Ratings', gridwidth = 2),\n",
    "    hovermode = 'closest',\n",
    "    paper_bgcolor='rgb(243, 243, 243)',\n",
    "    plot_bgcolor='rgb(243, 243, 243)',\n",
    ")\n",
    "\n",
    "fig = go.Figure(data = data, layout = layout)\n",
    "# for offline glue-ing of plot into notebook\n",
    "init_notebook_mode(connected=True)\n",
    "iplot(fig)\n"
   ]
  },
  {
   "cell_type": "code",
   "execution_count": 58,
   "metadata": {},
   "outputs": [
    {
     "data": {
      "text/plain": [
       "'StarRating_Genres.html'"
      ]
     },
     "execution_count": 58,
     "metadata": {},
     "output_type": "execute_result"
    }
   ],
   "source": [
    "plotly.offline.plot(fig, filename='StarRating_Genres.html')"
   ]
  },
  {
   "cell_type": "code",
   "execution_count": 19,
   "metadata": {},
   "outputs": [
    {
     "data": {
      "text/html": [
       "        <script type=\"text/javascript\">\n",
       "        window.PlotlyConfig = {MathJaxConfig: 'local'};\n",
       "        if (window.MathJax) {MathJax.Hub.Config({SVG: {font: \"STIX-Web\"}});}\n",
       "        if (typeof require !== 'undefined') {\n",
       "        require.undef(\"plotly\");\n",
       "        requirejs.config({\n",
       "            paths: {\n",
       "                'plotly': ['https://cdn.plot.ly/plotly-latest.min']\n",
       "            }\n",
       "        });\n",
       "        require(['plotly'], function(Plotly) {\n",
       "            window._Plotly = Plotly;\n",
       "        });\n",
       "        }\n",
       "        </script>\n",
       "        "
      ]
     },
     "metadata": {},
     "output_type": "display_data"
    },
    {
     "data": {
      "application/vnd.plotly.v1+json": {
       "config": {
        "linkText": "Export to plot.ly",
        "plotlyServerURL": "https://plot.ly",
        "showLink": false
       },
       "data": [
        {
         "marker": {
          "color": "Orange",
          "opacity": 0.5,
          "size": 7
         },
         "mode": "markers",
         "text": [
          "The Hunt",
          "Birdman or (The Unexpected Virtue of Ignorance)",
          "Whiplash",
          "Atonement",
          "Oldboy",
          "Mulholland Dr.",
          "There Will Be Blood",
          "Children of Men",
          "Holy Motors",
          "In the Mood for Love",
          "Sseo-ni",
          "Battle Royale",
          "Amélie",
          "Memento",
          "Eternal Sunshine of the Spotless Mind",
          "Let the Right One In",
          "Kokuhaku",
          "The Chaser",
          "Drive",
          "Capote",
          "Lost in Translation",
          "Pan's Labyrinth",
          "Take Shelter",
          "The Tree of Life",
          "Spirited Away",
          "WALL·E",
          "The Secret in Their Eyes",
          "4 Months, 3 Weeks and 2 Days",
          "Zodiac",
          "Before Sunset",
          "Relatos salvajes",
          "Michael Clayton",
          "Gosford Park",
          "City of Life and Death",
          "The Assassination of Jesse James by the Coward Robert Ford",
          "Boyhood",
          "Ookami kodomo no Ame to Yuki",
          "Caché",
          "Sideways",
          "No Country for Old Men",
          "Blancanieves",
          "Tinker Tailor Soldier Spy",
          "Ex Machina",
          "The White Ribbon",
          "Synecdoche, New York",
          "Waltz with Bashir",
          "Eastern Promises",
          "I Saw the Devil",
          "Persepolis",
          "Fantastic Mr. Fox",
          "The Return",
          "Nebraska",
          "Force Majeure",
          "The Pianist",
          "The Lives of Others",
          "Yi Yi",
          "13 Assassins",
          "Talk to Her",
          "Werckmeister harmóniák",
          "The New World",
          "Downfall",
          "Still Walking",
          "Memories of Murder",
          "Certified Copy",
          "Summer Hours",
          "A Bittersweet Life",
          "Shame",
          "The Great Beauty",
          "Songs from the Second Floor",
          "Russian Ark",
          "45 Years",
          "The Cove",
          "Samsara",
          "3-Iron",
          "Gui tu lie che",
          "The Revenant",
          "The Big Short",
          "The Turin Horse",
          "Arrival",
          "The Handmaiden",
          "Locke",
          "Gone Baby Gone",
          "Spotlight",
          "The Act of Killing",
          "Parasite",
          "The Lighthouse",
          "Jiang hu er nü",
          "The Wailing",
          "Long Day's Journey Into Night",
          "The Square",
          "The Road",
          "Hell or High Water",
          "Sicario",
          "Burning",
          "Shi",
          "Milyang",
          "Blade Runner 2049",
          "Human"
         ],
         "type": "scatter",
         "x": [
          "R",
          "R",
          "R",
          "R",
          "R",
          "R",
          "R",
          "R",
          "Not Rated",
          "PG",
          "PG-13",
          "Not Rated",
          "R",
          "R",
          "R",
          "R",
          "Not Rated",
          "Not Rated",
          "R",
          "R",
          "R",
          "R",
          "R",
          "PG-13",
          "PG",
          "G",
          "R",
          "Not Rated",
          "R",
          "R",
          "R",
          "R",
          "R",
          "R",
          "R",
          "R",
          "PG",
          "R",
          "R",
          "R",
          "PG-13",
          "R",
          "R",
          "R",
          "R",
          "R",
          "R",
          "Not Rated",
          "PG-13",
          "PG",
          "Not Rated",
          "R",
          "R",
          "R",
          "R",
          "Not Rated",
          "R",
          "R",
          "none",
          "PG-13",
          "R",
          "Not Rated",
          "Not Rated",
          "Not Rated",
          "Not Rated",
          "Not Rated",
          "NC-17",
          "Not Rated",
          "Not Rated",
          "Not Rated",
          "R",
          "PG-13",
          "PG-13",
          "R",
          "Not Rated",
          "R",
          "R",
          "Not Rated",
          "PG-13",
          "Not Rated",
          "R",
          "R",
          "R",
          "Not Rated",
          "R",
          "R",
          "Not Rated",
          "TV-MA",
          "Not Rated",
          "R",
          "R",
          "R",
          "R",
          "Not Rated",
          "TV-PG",
          "Not Rated",
          "R",
          "Not Rated"
         ],
         "y": [
          115,
          119,
          106,
          123,
          120,
          147,
          158,
          109,
          115,
          98,
          124,
          114,
          122,
          113,
          108,
          114,
          106,
          125,
          100,
          114,
          102,
          118,
          120,
          139,
          125,
          98,
          129,
          113,
          157,
          80,
          122,
          119,
          131,
          133,
          160,
          165,
          117,
          117,
          127,
          122,
          104,
          122,
          108,
          144,
          124,
          90,
          100,
          144,
          96,
          87,
          110,
          115,
          120,
          150,
          137,
          173,
          141,
          112,
          145,
          135,
          156,
          115,
          132,
          106,
          103,
          119,
          101,
          141,
          98,
          99,
          91,
          92,
          102,
          88,
          85,
          156,
          130,
          155,
          116,
          145,
          85,
          114,
          129,
          117,
          132,
          109,
          136,
          156,
          138,
          151,
          111,
          102,
          121,
          148,
          139,
          142,
          164,
          190
         ]
        }
       ],
       "layout": {
        "hovermode": "closest",
        "paper_bgcolor": "rgb(243, 243, 243)",
        "plot_bgcolor": "rgb(243, 243, 243)",
        "template": {
         "data": {
          "bar": [
           {
            "error_x": {
             "color": "#2a3f5f"
            },
            "error_y": {
             "color": "#2a3f5f"
            },
            "marker": {
             "line": {
              "color": "#E5ECF6",
              "width": 0.5
             }
            },
            "type": "bar"
           }
          ],
          "barpolar": [
           {
            "marker": {
             "line": {
              "color": "#E5ECF6",
              "width": 0.5
             }
            },
            "type": "barpolar"
           }
          ],
          "carpet": [
           {
            "aaxis": {
             "endlinecolor": "#2a3f5f",
             "gridcolor": "white",
             "linecolor": "white",
             "minorgridcolor": "white",
             "startlinecolor": "#2a3f5f"
            },
            "baxis": {
             "endlinecolor": "#2a3f5f",
             "gridcolor": "white",
             "linecolor": "white",
             "minorgridcolor": "white",
             "startlinecolor": "#2a3f5f"
            },
            "type": "carpet"
           }
          ],
          "choropleth": [
           {
            "colorbar": {
             "outlinewidth": 0,
             "ticks": ""
            },
            "type": "choropleth"
           }
          ],
          "contour": [
           {
            "colorbar": {
             "outlinewidth": 0,
             "ticks": ""
            },
            "colorscale": [
             [
              0,
              "#0d0887"
             ],
             [
              0.1111111111111111,
              "#46039f"
             ],
             [
              0.2222222222222222,
              "#7201a8"
             ],
             [
              0.3333333333333333,
              "#9c179e"
             ],
             [
              0.4444444444444444,
              "#bd3786"
             ],
             [
              0.5555555555555556,
              "#d8576b"
             ],
             [
              0.6666666666666666,
              "#ed7953"
             ],
             [
              0.7777777777777778,
              "#fb9f3a"
             ],
             [
              0.8888888888888888,
              "#fdca26"
             ],
             [
              1,
              "#f0f921"
             ]
            ],
            "type": "contour"
           }
          ],
          "contourcarpet": [
           {
            "colorbar": {
             "outlinewidth": 0,
             "ticks": ""
            },
            "type": "contourcarpet"
           }
          ],
          "heatmap": [
           {
            "colorbar": {
             "outlinewidth": 0,
             "ticks": ""
            },
            "colorscale": [
             [
              0,
              "#0d0887"
             ],
             [
              0.1111111111111111,
              "#46039f"
             ],
             [
              0.2222222222222222,
              "#7201a8"
             ],
             [
              0.3333333333333333,
              "#9c179e"
             ],
             [
              0.4444444444444444,
              "#bd3786"
             ],
             [
              0.5555555555555556,
              "#d8576b"
             ],
             [
              0.6666666666666666,
              "#ed7953"
             ],
             [
              0.7777777777777778,
              "#fb9f3a"
             ],
             [
              0.8888888888888888,
              "#fdca26"
             ],
             [
              1,
              "#f0f921"
             ]
            ],
            "type": "heatmap"
           }
          ],
          "heatmapgl": [
           {
            "colorbar": {
             "outlinewidth": 0,
             "ticks": ""
            },
            "colorscale": [
             [
              0,
              "#0d0887"
             ],
             [
              0.1111111111111111,
              "#46039f"
             ],
             [
              0.2222222222222222,
              "#7201a8"
             ],
             [
              0.3333333333333333,
              "#9c179e"
             ],
             [
              0.4444444444444444,
              "#bd3786"
             ],
             [
              0.5555555555555556,
              "#d8576b"
             ],
             [
              0.6666666666666666,
              "#ed7953"
             ],
             [
              0.7777777777777778,
              "#fb9f3a"
             ],
             [
              0.8888888888888888,
              "#fdca26"
             ],
             [
              1,
              "#f0f921"
             ]
            ],
            "type": "heatmapgl"
           }
          ],
          "histogram": [
           {
            "marker": {
             "colorbar": {
              "outlinewidth": 0,
              "ticks": ""
             }
            },
            "type": "histogram"
           }
          ],
          "histogram2d": [
           {
            "colorbar": {
             "outlinewidth": 0,
             "ticks": ""
            },
            "colorscale": [
             [
              0,
              "#0d0887"
             ],
             [
              0.1111111111111111,
              "#46039f"
             ],
             [
              0.2222222222222222,
              "#7201a8"
             ],
             [
              0.3333333333333333,
              "#9c179e"
             ],
             [
              0.4444444444444444,
              "#bd3786"
             ],
             [
              0.5555555555555556,
              "#d8576b"
             ],
             [
              0.6666666666666666,
              "#ed7953"
             ],
             [
              0.7777777777777778,
              "#fb9f3a"
             ],
             [
              0.8888888888888888,
              "#fdca26"
             ],
             [
              1,
              "#f0f921"
             ]
            ],
            "type": "histogram2d"
           }
          ],
          "histogram2dcontour": [
           {
            "colorbar": {
             "outlinewidth": 0,
             "ticks": ""
            },
            "colorscale": [
             [
              0,
              "#0d0887"
             ],
             [
              0.1111111111111111,
              "#46039f"
             ],
             [
              0.2222222222222222,
              "#7201a8"
             ],
             [
              0.3333333333333333,
              "#9c179e"
             ],
             [
              0.4444444444444444,
              "#bd3786"
             ],
             [
              0.5555555555555556,
              "#d8576b"
             ],
             [
              0.6666666666666666,
              "#ed7953"
             ],
             [
              0.7777777777777778,
              "#fb9f3a"
             ],
             [
              0.8888888888888888,
              "#fdca26"
             ],
             [
              1,
              "#f0f921"
             ]
            ],
            "type": "histogram2dcontour"
           }
          ],
          "mesh3d": [
           {
            "colorbar": {
             "outlinewidth": 0,
             "ticks": ""
            },
            "type": "mesh3d"
           }
          ],
          "parcoords": [
           {
            "line": {
             "colorbar": {
              "outlinewidth": 0,
              "ticks": ""
             }
            },
            "type": "parcoords"
           }
          ],
          "pie": [
           {
            "automargin": true,
            "type": "pie"
           }
          ],
          "scatter": [
           {
            "marker": {
             "colorbar": {
              "outlinewidth": 0,
              "ticks": ""
             }
            },
            "type": "scatter"
           }
          ],
          "scatter3d": [
           {
            "line": {
             "colorbar": {
              "outlinewidth": 0,
              "ticks": ""
             }
            },
            "marker": {
             "colorbar": {
              "outlinewidth": 0,
              "ticks": ""
             }
            },
            "type": "scatter3d"
           }
          ],
          "scattercarpet": [
           {
            "marker": {
             "colorbar": {
              "outlinewidth": 0,
              "ticks": ""
             }
            },
            "type": "scattercarpet"
           }
          ],
          "scattergeo": [
           {
            "marker": {
             "colorbar": {
              "outlinewidth": 0,
              "ticks": ""
             }
            },
            "type": "scattergeo"
           }
          ],
          "scattergl": [
           {
            "marker": {
             "colorbar": {
              "outlinewidth": 0,
              "ticks": ""
             }
            },
            "type": "scattergl"
           }
          ],
          "scattermapbox": [
           {
            "marker": {
             "colorbar": {
              "outlinewidth": 0,
              "ticks": ""
             }
            },
            "type": "scattermapbox"
           }
          ],
          "scatterpolar": [
           {
            "marker": {
             "colorbar": {
              "outlinewidth": 0,
              "ticks": ""
             }
            },
            "type": "scatterpolar"
           }
          ],
          "scatterpolargl": [
           {
            "marker": {
             "colorbar": {
              "outlinewidth": 0,
              "ticks": ""
             }
            },
            "type": "scatterpolargl"
           }
          ],
          "scatterternary": [
           {
            "marker": {
             "colorbar": {
              "outlinewidth": 0,
              "ticks": ""
             }
            },
            "type": "scatterternary"
           }
          ],
          "surface": [
           {
            "colorbar": {
             "outlinewidth": 0,
             "ticks": ""
            },
            "colorscale": [
             [
              0,
              "#0d0887"
             ],
             [
              0.1111111111111111,
              "#46039f"
             ],
             [
              0.2222222222222222,
              "#7201a8"
             ],
             [
              0.3333333333333333,
              "#9c179e"
             ],
             [
              0.4444444444444444,
              "#bd3786"
             ],
             [
              0.5555555555555556,
              "#d8576b"
             ],
             [
              0.6666666666666666,
              "#ed7953"
             ],
             [
              0.7777777777777778,
              "#fb9f3a"
             ],
             [
              0.8888888888888888,
              "#fdca26"
             ],
             [
              1,
              "#f0f921"
             ]
            ],
            "type": "surface"
           }
          ],
          "table": [
           {
            "cells": {
             "fill": {
              "color": "#EBF0F8"
             },
             "line": {
              "color": "white"
             }
            },
            "header": {
             "fill": {
              "color": "#C8D4E3"
             },
             "line": {
              "color": "white"
             }
            },
            "type": "table"
           }
          ]
         },
         "layout": {
          "annotationdefaults": {
           "arrowcolor": "#2a3f5f",
           "arrowhead": 0,
           "arrowwidth": 1
          },
          "coloraxis": {
           "colorbar": {
            "outlinewidth": 0,
            "ticks": ""
           }
          },
          "colorscale": {
           "diverging": [
            [
             0,
             "#8e0152"
            ],
            [
             0.1,
             "#c51b7d"
            ],
            [
             0.2,
             "#de77ae"
            ],
            [
             0.3,
             "#f1b6da"
            ],
            [
             0.4,
             "#fde0ef"
            ],
            [
             0.5,
             "#f7f7f7"
            ],
            [
             0.6,
             "#e6f5d0"
            ],
            [
             0.7,
             "#b8e186"
            ],
            [
             0.8,
             "#7fbc41"
            ],
            [
             0.9,
             "#4d9221"
            ],
            [
             1,
             "#276419"
            ]
           ],
           "sequential": [
            [
             0,
             "#0d0887"
            ],
            [
             0.1111111111111111,
             "#46039f"
            ],
            [
             0.2222222222222222,
             "#7201a8"
            ],
            [
             0.3333333333333333,
             "#9c179e"
            ],
            [
             0.4444444444444444,
             "#bd3786"
            ],
            [
             0.5555555555555556,
             "#d8576b"
            ],
            [
             0.6666666666666666,
             "#ed7953"
            ],
            [
             0.7777777777777778,
             "#fb9f3a"
            ],
            [
             0.8888888888888888,
             "#fdca26"
            ],
            [
             1,
             "#f0f921"
            ]
           ],
           "sequentialminus": [
            [
             0,
             "#0d0887"
            ],
            [
             0.1111111111111111,
             "#46039f"
            ],
            [
             0.2222222222222222,
             "#7201a8"
            ],
            [
             0.3333333333333333,
             "#9c179e"
            ],
            [
             0.4444444444444444,
             "#bd3786"
            ],
            [
             0.5555555555555556,
             "#d8576b"
            ],
            [
             0.6666666666666666,
             "#ed7953"
            ],
            [
             0.7777777777777778,
             "#fb9f3a"
            ],
            [
             0.8888888888888888,
             "#fdca26"
            ],
            [
             1,
             "#f0f921"
            ]
           ]
          },
          "colorway": [
           "#636efa",
           "#EF553B",
           "#00cc96",
           "#ab63fa",
           "#FFA15A",
           "#19d3f3",
           "#FF6692",
           "#B6E880",
           "#FF97FF",
           "#FECB52"
          ],
          "font": {
           "color": "#2a3f5f"
          },
          "geo": {
           "bgcolor": "white",
           "lakecolor": "white",
           "landcolor": "#E5ECF6",
           "showlakes": true,
           "showland": true,
           "subunitcolor": "white"
          },
          "hoverlabel": {
           "align": "left"
          },
          "hovermode": "closest",
          "mapbox": {
           "style": "light"
          },
          "paper_bgcolor": "white",
          "plot_bgcolor": "#E5ECF6",
          "polar": {
           "angularaxis": {
            "gridcolor": "white",
            "linecolor": "white",
            "ticks": ""
           },
           "bgcolor": "#E5ECF6",
           "radialaxis": {
            "gridcolor": "white",
            "linecolor": "white",
            "ticks": ""
           }
          },
          "scene": {
           "xaxis": {
            "backgroundcolor": "#E5ECF6",
            "gridcolor": "white",
            "gridwidth": 2,
            "linecolor": "white",
            "showbackground": true,
            "ticks": "",
            "zerolinecolor": "white"
           },
           "yaxis": {
            "backgroundcolor": "#E5ECF6",
            "gridcolor": "white",
            "gridwidth": 2,
            "linecolor": "white",
            "showbackground": true,
            "ticks": "",
            "zerolinecolor": "white"
           },
           "zaxis": {
            "backgroundcolor": "#E5ECF6",
            "gridcolor": "white",
            "gridwidth": 2,
            "linecolor": "white",
            "showbackground": true,
            "ticks": "",
            "zerolinecolor": "white"
           }
          },
          "shapedefaults": {
           "line": {
            "color": "#2a3f5f"
           }
          },
          "ternary": {
           "aaxis": {
            "gridcolor": "white",
            "linecolor": "white",
            "ticks": ""
           },
           "baxis": {
            "gridcolor": "white",
            "linecolor": "white",
            "ticks": ""
           },
           "bgcolor": "#E5ECF6",
           "caxis": {
            "gridcolor": "white",
            "linecolor": "white",
            "ticks": ""
           }
          },
          "title": {
           "x": 0.05
          },
          "xaxis": {
           "automargin": true,
           "gridcolor": "white",
           "linecolor": "white",
           "ticks": "",
           "title": {
            "standoff": 15
           },
           "zerolinecolor": "white",
           "zerolinewidth": 2
          },
          "yaxis": {
           "automargin": true,
           "gridcolor": "white",
           "linecolor": "white",
           "ticks": "",
           "title": {
            "standoff": 15
           },
           "zerolinecolor": "white",
           "zerolinewidth": 2
          }
         }
        },
        "title": {
         "text": "Duration vs Film Rating  (2000-2020)"
        },
        "xaxis": {
         "gridwidth": 2,
         "showgrid": true,
         "zeroline": true
        },
        "yaxis": {
         "gridwidth": 2,
         "title": {
          "text": "Duration"
         }
        }
       }
      },
      "text/html": [
       "<div>\n",
       "        \n",
       "        \n",
       "            <div id=\"04b333b2-dd6a-4be6-b4f7-ab39a06746a3\" class=\"plotly-graph-div\" style=\"height:525px; width:100%;\"></div>\n",
       "            <script type=\"text/javascript\">\n",
       "                require([\"plotly\"], function(Plotly) {\n",
       "                    window.PLOTLYENV=window.PLOTLYENV || {};\n",
       "                    \n",
       "                if (document.getElementById(\"04b333b2-dd6a-4be6-b4f7-ab39a06746a3\")) {\n",
       "                    Plotly.newPlot(\n",
       "                        '04b333b2-dd6a-4be6-b4f7-ab39a06746a3',\n",
       "                        [{\"marker\": {\"color\": \"Orange\", \"opacity\": 0.5, \"size\": 7}, \"mode\": \"markers\", \"text\": [\"The Hunt\", \"Birdman or (The Unexpected Virtue of Ignorance)\", \"Whiplash\", \"Atonement\", \"Oldboy\", \"Mulholland Dr.\", \"There Will Be Blood\", \"Children of Men\", \"Holy Motors\", \"In the Mood for Love\", \"Sseo-ni\", \"Battle Royale\", \"Am\\u00e9lie\", \"Memento\", \"Eternal Sunshine of the Spotless Mind\", \"Let the Right One In\", \"Kokuhaku\", \"The Chaser\", \"Drive\", \"Capote\", \"Lost in Translation\", \"Pan's Labyrinth\", \"Take Shelter\", \"The Tree of Life\", \"Spirited Away\", \"WALL\\u00b7E\", \"The Secret in Their Eyes\", \"4 Months, 3 Weeks and 2 Days\", \"Zodiac\", \"Before Sunset\", \"Relatos salvajes\", \"Michael Clayton\", \"Gosford Park\", \"City of Life and Death\", \"The Assassination of Jesse James by the Coward Robert Ford\", \"Boyhood\", \"Ookami kodomo no Ame to Yuki\", \"Cach\\u00e9\", \"Sideways\", \"No Country for Old Men\", \"Blancanieves\", \"Tinker Tailor Soldier Spy\", \"Ex Machina\", \"The White Ribbon\", \"Synecdoche, New York\", \"Waltz with Bashir\", \"Eastern Promises\", \"I Saw the Devil\", \"Persepolis\", \"Fantastic Mr. Fox\", \"The Return\", \"Nebraska\", \"Force Majeure\", \"The Pianist\", \"The Lives of Others\", \"Yi Yi\", \"13 Assassins\", \"Talk to Her\", \"Werckmeister harm\\u00f3ni\\u00e1k\", \"The New World\", \"Downfall\", \"Still Walking\", \"Memories of Murder\", \"Certified Copy\", \"Summer Hours\", \"A Bittersweet Life\", \"Shame\", \"The Great Beauty\", \"Songs from the Second Floor\", \"Russian Ark\", \"45 Years\", \"The Cove\", \"Samsara\", \"3-Iron\", \"Gui tu lie che\", \"The Revenant\", \"The Big Short\", \"The Turin Horse\", \"Arrival\", \"The Handmaiden\", \"Locke\", \"Gone Baby Gone\", \"Spotlight\", \"The Act of Killing\", \"Parasite\", \"The Lighthouse\", \"Jiang hu er n\\u00fc\", \"The Wailing\", \"Long Day's Journey Into Night\", \"The Square\", \"The Road\", \"Hell or High Water\", \"Sicario\", \"Burning\", \"Shi\", \"Milyang\", \"Blade Runner 2049\", \"Human\"], \"type\": \"scatter\", \"x\": [\"R\", \"R\", \"R\", \"R\", \"R\", \"R\", \"R\", \"R\", \"Not Rated\", \"PG\", \"PG-13\", \"Not Rated\", \"R\", \"R\", \"R\", \"R\", \"Not Rated\", \"Not Rated\", \"R\", \"R\", \"R\", \"R\", \"R\", \"PG-13\", \"PG\", \"G\", \"R\", \"Not Rated\", \"R\", \"R\", \"R\", \"R\", \"R\", \"R\", \"R\", \"R\", \"PG\", \"R\", \"R\", \"R\", \"PG-13\", \"R\", \"R\", \"R\", \"R\", \"R\", \"R\", \"Not Rated\", \"PG-13\", \"PG\", \"Not Rated\", \"R\", \"R\", \"R\", \"R\", \"Not Rated\", \"R\", \"R\", \"none\", \"PG-13\", \"R\", \"Not Rated\", \"Not Rated\", \"Not Rated\", \"Not Rated\", \"Not Rated\", \"NC-17\", \"Not Rated\", \"Not Rated\", \"Not Rated\", \"R\", \"PG-13\", \"PG-13\", \"R\", \"Not Rated\", \"R\", \"R\", \"Not Rated\", \"PG-13\", \"Not Rated\", \"R\", \"R\", \"R\", \"Not Rated\", \"R\", \"R\", \"Not Rated\", \"TV-MA\", \"Not Rated\", \"R\", \"R\", \"R\", \"R\", \"Not Rated\", \"TV-PG\", \"Not Rated\", \"R\", \"Not Rated\"], \"y\": [115, 119, 106, 123, 120, 147, 158, 109, 115, 98, 124, 114, 122, 113, 108, 114, 106, 125, 100, 114, 102, 118, 120, 139, 125, 98, 129, 113, 157, 80, 122, 119, 131, 133, 160, 165, 117, 117, 127, 122, 104, 122, 108, 144, 124, 90, 100, 144, 96, 87, 110, 115, 120, 150, 137, 173, 141, 112, 145, 135, 156, 115, 132, 106, 103, 119, 101, 141, 98, 99, 91, 92, 102, 88, 85, 156, 130, 155, 116, 145, 85, 114, 129, 117, 132, 109, 136, 156, 138, 151, 111, 102, 121, 148, 139, 142, 164, 190]}],\n",
       "                        {\"hovermode\": \"closest\", \"paper_bgcolor\": \"rgb(243, 243, 243)\", \"plot_bgcolor\": \"rgb(243, 243, 243)\", \"template\": {\"data\": {\"bar\": [{\"error_x\": {\"color\": \"#2a3f5f\"}, \"error_y\": {\"color\": \"#2a3f5f\"}, \"marker\": {\"line\": {\"color\": \"#E5ECF6\", \"width\": 0.5}}, \"type\": \"bar\"}], \"barpolar\": [{\"marker\": {\"line\": {\"color\": \"#E5ECF6\", \"width\": 0.5}}, \"type\": \"barpolar\"}], \"carpet\": [{\"aaxis\": {\"endlinecolor\": \"#2a3f5f\", \"gridcolor\": \"white\", \"linecolor\": \"white\", \"minorgridcolor\": \"white\", \"startlinecolor\": \"#2a3f5f\"}, \"baxis\": {\"endlinecolor\": \"#2a3f5f\", \"gridcolor\": \"white\", \"linecolor\": \"white\", \"minorgridcolor\": \"white\", \"startlinecolor\": \"#2a3f5f\"}, \"type\": \"carpet\"}], \"choropleth\": [{\"colorbar\": {\"outlinewidth\": 0, \"ticks\": \"\"}, \"type\": \"choropleth\"}], \"contour\": [{\"colorbar\": {\"outlinewidth\": 0, \"ticks\": \"\"}, \"colorscale\": [[0.0, \"#0d0887\"], [0.1111111111111111, \"#46039f\"], [0.2222222222222222, \"#7201a8\"], [0.3333333333333333, \"#9c179e\"], [0.4444444444444444, \"#bd3786\"], [0.5555555555555556, \"#d8576b\"], [0.6666666666666666, \"#ed7953\"], [0.7777777777777778, \"#fb9f3a\"], [0.8888888888888888, \"#fdca26\"], [1.0, \"#f0f921\"]], \"type\": \"contour\"}], \"contourcarpet\": [{\"colorbar\": {\"outlinewidth\": 0, \"ticks\": \"\"}, \"type\": \"contourcarpet\"}], \"heatmap\": [{\"colorbar\": {\"outlinewidth\": 0, \"ticks\": \"\"}, \"colorscale\": [[0.0, \"#0d0887\"], [0.1111111111111111, \"#46039f\"], [0.2222222222222222, \"#7201a8\"], [0.3333333333333333, \"#9c179e\"], [0.4444444444444444, \"#bd3786\"], [0.5555555555555556, \"#d8576b\"], [0.6666666666666666, \"#ed7953\"], [0.7777777777777778, \"#fb9f3a\"], [0.8888888888888888, \"#fdca26\"], [1.0, \"#f0f921\"]], \"type\": \"heatmap\"}], \"heatmapgl\": [{\"colorbar\": {\"outlinewidth\": 0, \"ticks\": \"\"}, \"colorscale\": [[0.0, \"#0d0887\"], [0.1111111111111111, \"#46039f\"], [0.2222222222222222, \"#7201a8\"], [0.3333333333333333, \"#9c179e\"], [0.4444444444444444, \"#bd3786\"], [0.5555555555555556, \"#d8576b\"], [0.6666666666666666, \"#ed7953\"], [0.7777777777777778, \"#fb9f3a\"], [0.8888888888888888, \"#fdca26\"], [1.0, \"#f0f921\"]], \"type\": \"heatmapgl\"}], \"histogram\": [{\"marker\": {\"colorbar\": {\"outlinewidth\": 0, \"ticks\": \"\"}}, \"type\": \"histogram\"}], \"histogram2d\": [{\"colorbar\": {\"outlinewidth\": 0, \"ticks\": \"\"}, \"colorscale\": [[0.0, \"#0d0887\"], [0.1111111111111111, \"#46039f\"], [0.2222222222222222, \"#7201a8\"], [0.3333333333333333, \"#9c179e\"], [0.4444444444444444, \"#bd3786\"], [0.5555555555555556, \"#d8576b\"], [0.6666666666666666, \"#ed7953\"], [0.7777777777777778, \"#fb9f3a\"], [0.8888888888888888, \"#fdca26\"], [1.0, \"#f0f921\"]], \"type\": \"histogram2d\"}], \"histogram2dcontour\": [{\"colorbar\": {\"outlinewidth\": 0, \"ticks\": \"\"}, \"colorscale\": [[0.0, \"#0d0887\"], [0.1111111111111111, \"#46039f\"], [0.2222222222222222, \"#7201a8\"], [0.3333333333333333, \"#9c179e\"], [0.4444444444444444, \"#bd3786\"], [0.5555555555555556, \"#d8576b\"], [0.6666666666666666, \"#ed7953\"], [0.7777777777777778, \"#fb9f3a\"], [0.8888888888888888, \"#fdca26\"], [1.0, \"#f0f921\"]], \"type\": \"histogram2dcontour\"}], \"mesh3d\": [{\"colorbar\": {\"outlinewidth\": 0, \"ticks\": \"\"}, \"type\": \"mesh3d\"}], \"parcoords\": [{\"line\": {\"colorbar\": {\"outlinewidth\": 0, \"ticks\": \"\"}}, \"type\": \"parcoords\"}], \"pie\": [{\"automargin\": true, \"type\": \"pie\"}], \"scatter\": [{\"marker\": {\"colorbar\": {\"outlinewidth\": 0, \"ticks\": \"\"}}, \"type\": \"scatter\"}], \"scatter3d\": [{\"line\": {\"colorbar\": {\"outlinewidth\": 0, \"ticks\": \"\"}}, \"marker\": {\"colorbar\": {\"outlinewidth\": 0, \"ticks\": \"\"}}, \"type\": \"scatter3d\"}], \"scattercarpet\": [{\"marker\": {\"colorbar\": {\"outlinewidth\": 0, \"ticks\": \"\"}}, \"type\": \"scattercarpet\"}], \"scattergeo\": [{\"marker\": {\"colorbar\": {\"outlinewidth\": 0, \"ticks\": \"\"}}, \"type\": \"scattergeo\"}], \"scattergl\": [{\"marker\": {\"colorbar\": {\"outlinewidth\": 0, \"ticks\": \"\"}}, \"type\": \"scattergl\"}], \"scattermapbox\": [{\"marker\": {\"colorbar\": {\"outlinewidth\": 0, \"ticks\": \"\"}}, \"type\": \"scattermapbox\"}], \"scatterpolar\": [{\"marker\": {\"colorbar\": {\"outlinewidth\": 0, \"ticks\": \"\"}}, \"type\": \"scatterpolar\"}], \"scatterpolargl\": [{\"marker\": {\"colorbar\": {\"outlinewidth\": 0, \"ticks\": \"\"}}, \"type\": \"scatterpolargl\"}], \"scatterternary\": [{\"marker\": {\"colorbar\": {\"outlinewidth\": 0, \"ticks\": \"\"}}, \"type\": \"scatterternary\"}], \"surface\": [{\"colorbar\": {\"outlinewidth\": 0, \"ticks\": \"\"}, \"colorscale\": [[0.0, \"#0d0887\"], [0.1111111111111111, \"#46039f\"], [0.2222222222222222, \"#7201a8\"], [0.3333333333333333, \"#9c179e\"], [0.4444444444444444, \"#bd3786\"], [0.5555555555555556, \"#d8576b\"], [0.6666666666666666, \"#ed7953\"], [0.7777777777777778, \"#fb9f3a\"], [0.8888888888888888, \"#fdca26\"], [1.0, \"#f0f921\"]], \"type\": \"surface\"}], \"table\": [{\"cells\": {\"fill\": {\"color\": \"#EBF0F8\"}, \"line\": {\"color\": \"white\"}}, \"header\": {\"fill\": {\"color\": \"#C8D4E3\"}, \"line\": {\"color\": \"white\"}}, \"type\": \"table\"}]}, \"layout\": {\"annotationdefaults\": {\"arrowcolor\": \"#2a3f5f\", \"arrowhead\": 0, \"arrowwidth\": 1}, \"coloraxis\": {\"colorbar\": {\"outlinewidth\": 0, \"ticks\": \"\"}}, \"colorscale\": {\"diverging\": [[0, \"#8e0152\"], [0.1, \"#c51b7d\"], [0.2, \"#de77ae\"], [0.3, \"#f1b6da\"], [0.4, \"#fde0ef\"], [0.5, \"#f7f7f7\"], [0.6, \"#e6f5d0\"], [0.7, \"#b8e186\"], [0.8, \"#7fbc41\"], [0.9, \"#4d9221\"], [1, \"#276419\"]], \"sequential\": [[0.0, \"#0d0887\"], [0.1111111111111111, \"#46039f\"], [0.2222222222222222, \"#7201a8\"], [0.3333333333333333, \"#9c179e\"], [0.4444444444444444, \"#bd3786\"], [0.5555555555555556, \"#d8576b\"], [0.6666666666666666, \"#ed7953\"], [0.7777777777777778, \"#fb9f3a\"], [0.8888888888888888, \"#fdca26\"], [1.0, \"#f0f921\"]], \"sequentialminus\": [[0.0, \"#0d0887\"], [0.1111111111111111, \"#46039f\"], [0.2222222222222222, \"#7201a8\"], [0.3333333333333333, \"#9c179e\"], [0.4444444444444444, \"#bd3786\"], [0.5555555555555556, \"#d8576b\"], [0.6666666666666666, \"#ed7953\"], [0.7777777777777778, \"#fb9f3a\"], [0.8888888888888888, \"#fdca26\"], [1.0, \"#f0f921\"]]}, \"colorway\": [\"#636efa\", \"#EF553B\", \"#00cc96\", \"#ab63fa\", \"#FFA15A\", \"#19d3f3\", \"#FF6692\", \"#B6E880\", \"#FF97FF\", \"#FECB52\"], \"font\": {\"color\": \"#2a3f5f\"}, \"geo\": {\"bgcolor\": \"white\", \"lakecolor\": \"white\", \"landcolor\": \"#E5ECF6\", \"showlakes\": true, \"showland\": true, \"subunitcolor\": \"white\"}, \"hoverlabel\": {\"align\": \"left\"}, \"hovermode\": \"closest\", \"mapbox\": {\"style\": \"light\"}, \"paper_bgcolor\": \"white\", \"plot_bgcolor\": \"#E5ECF6\", \"polar\": {\"angularaxis\": {\"gridcolor\": \"white\", \"linecolor\": \"white\", \"ticks\": \"\"}, \"bgcolor\": \"#E5ECF6\", \"radialaxis\": {\"gridcolor\": \"white\", \"linecolor\": \"white\", \"ticks\": \"\"}}, \"scene\": {\"xaxis\": {\"backgroundcolor\": \"#E5ECF6\", \"gridcolor\": \"white\", \"gridwidth\": 2, \"linecolor\": \"white\", \"showbackground\": true, \"ticks\": \"\", \"zerolinecolor\": \"white\"}, \"yaxis\": {\"backgroundcolor\": \"#E5ECF6\", \"gridcolor\": \"white\", \"gridwidth\": 2, \"linecolor\": \"white\", \"showbackground\": true, \"ticks\": \"\", \"zerolinecolor\": \"white\"}, \"zaxis\": {\"backgroundcolor\": \"#E5ECF6\", \"gridcolor\": \"white\", \"gridwidth\": 2, \"linecolor\": \"white\", \"showbackground\": true, \"ticks\": \"\", \"zerolinecolor\": \"white\"}}, \"shapedefaults\": {\"line\": {\"color\": \"#2a3f5f\"}}, \"ternary\": {\"aaxis\": {\"gridcolor\": \"white\", \"linecolor\": \"white\", \"ticks\": \"\"}, \"baxis\": {\"gridcolor\": \"white\", \"linecolor\": \"white\", \"ticks\": \"\"}, \"bgcolor\": \"#E5ECF6\", \"caxis\": {\"gridcolor\": \"white\", \"linecolor\": \"white\", \"ticks\": \"\"}}, \"title\": {\"x\": 0.05}, \"xaxis\": {\"automargin\": true, \"gridcolor\": \"white\", \"linecolor\": \"white\", \"ticks\": \"\", \"title\": {\"standoff\": 15}, \"zerolinecolor\": \"white\", \"zerolinewidth\": 2}, \"yaxis\": {\"automargin\": true, \"gridcolor\": \"white\", \"linecolor\": \"white\", \"ticks\": \"\", \"title\": {\"standoff\": 15}, \"zerolinecolor\": \"white\", \"zerolinewidth\": 2}}}, \"title\": {\"text\": \"Duration vs Film Rating  (2000-2020)\"}, \"xaxis\": {\"gridwidth\": 2, \"showgrid\": true, \"zeroline\": true}, \"yaxis\": {\"gridwidth\": 2, \"title\": {\"text\": \"Duration\"}}},\n",
       "                        {\"responsive\": true}\n",
       "                    ).then(function(){\n",
       "                            \n",
       "var gd = document.getElementById('04b333b2-dd6a-4be6-b4f7-ab39a06746a3');\n",
       "var x = new MutationObserver(function (mutations, observer) {{\n",
       "        var display = window.getComputedStyle(gd).display;\n",
       "        if (!display || display === 'none') {{\n",
       "            console.log([gd, 'removed!']);\n",
       "            Plotly.purge(gd);\n",
       "            observer.disconnect();\n",
       "        }}\n",
       "}});\n",
       "\n",
       "// Listen for the removal of the full notebook cells\n",
       "var notebookContainer = gd.closest('#notebook-container');\n",
       "if (notebookContainer) {{\n",
       "    x.observe(notebookContainer, {childList: true});\n",
       "}}\n",
       "\n",
       "// Listen for the clearing of the current output cell\n",
       "var outputEl = gd.closest('.output');\n",
       "if (outputEl) {{\n",
       "    x.observe(outputEl, {childList: true});\n",
       "}}\n",
       "\n",
       "                        })\n",
       "                };\n",
       "                });\n",
       "            </script>\n",
       "        </div>"
      ]
     },
     "metadata": {},
     "output_type": "display_data"
    }
   ],
   "source": [
    "# mandatory imports for offline plotting of plotly\n",
    "from plotly.offline import init_notebook_mode, iplot\n",
    "import plotly.graph_objs as go\n",
    "\n",
    "trace1 = go.Scatter( # for plotting scatter graph, go.Scatter is used\n",
    "        y = title_data.Duration,\n",
    "        x = title_data.Film_Rating,\n",
    "        marker = dict(color = 'Orange', size = 7, opacity = 0.5), # marker attributes inside graph\n",
    "        mode = \"markers\",\n",
    "        text = title_data.Movie_Title # text for each marker during hover\n",
    ")\n",
    "\n",
    "data = [trace1]\n",
    "\n",
    "layout = go.Layout(\n",
    "    title =   'Duration vs Film Rating  (2000-2020)',\n",
    "    xaxis = dict(showgrid = True, zeroline = True, gridwidth = 2), \n",
    "    yaxis = dict(title = 'Duration', gridwidth = 2),\n",
    "    hovermode = 'closest',\n",
    "    paper_bgcolor='rgb(243, 243, 243)',\n",
    "    plot_bgcolor='rgb(243, 243, 243)',\n",
    ")\n",
    "\n",
    "fig_duration = go.Figure(data = data, layout = layout)\n",
    "# for offline glue-ing of plot into notebook\n",
    "init_notebook_mode(connected=True)\n",
    "iplot(fig_duration)"
   ]
  },
  {
   "cell_type": "code",
   "execution_count": 14,
   "metadata": {},
   "outputs": [
    {
     "data": {
      "text/html": [
       "        <script type=\"text/javascript\">\n",
       "        window.PlotlyConfig = {MathJaxConfig: 'local'};\n",
       "        if (window.MathJax) {MathJax.Hub.Config({SVG: {font: \"STIX-Web\"}});}\n",
       "        if (typeof require !== 'undefined') {\n",
       "        require.undef(\"plotly\");\n",
       "        requirejs.config({\n",
       "            paths: {\n",
       "                'plotly': ['https://cdn.plot.ly/plotly-latest.min']\n",
       "            }\n",
       "        });\n",
       "        require(['plotly'], function(Plotly) {\n",
       "            window._Plotly = Plotly;\n",
       "        });\n",
       "        }\n",
       "        </script>\n",
       "        "
      ]
     },
     "metadata": {},
     "output_type": "display_data"
    },
    {
     "data": {
      "application/vnd.plotly.v1+json": {
       "config": {
        "linkText": "Export to plot.ly",
        "plotlyServerURL": "https://plot.ly",
        "showLink": false
       },
       "data": [
        {
         "marker": {
          "color": "blue",
          "opacity": 0.5,
          "size": 7
         },
         "mode": "markers",
         "text": [
          "The Hunt",
          "Birdman or (The Unexpected Virtue of Ignorance)",
          "Whiplash",
          "Atonement",
          "Oldboy",
          "Mulholland Dr.",
          "There Will Be Blood",
          "Children of Men",
          "Holy Motors",
          "In the Mood for Love",
          "Sseo-ni",
          "Battle Royale",
          "Amélie",
          "Memento",
          "Eternal Sunshine of the Spotless Mind",
          "Let the Right One In",
          "Kokuhaku",
          "The Chaser",
          "Drive",
          "Capote",
          "Lost in Translation",
          "Pan's Labyrinth",
          "Take Shelter",
          "The Tree of Life",
          "Spirited Away",
          "WALL·E",
          "The Secret in Their Eyes",
          "4 Months, 3 Weeks and 2 Days",
          "Zodiac",
          "Before Sunset",
          "Relatos salvajes",
          "Michael Clayton",
          "Gosford Park",
          "City of Life and Death",
          "The Assassination of Jesse James by the Coward Robert Ford",
          "Boyhood",
          "Ookami kodomo no Ame to Yuki",
          "Caché",
          "Sideways",
          "No Country for Old Men",
          "Blancanieves",
          "Tinker Tailor Soldier Spy",
          "Ex Machina",
          "The White Ribbon",
          "Synecdoche, New York",
          "Waltz with Bashir",
          "Eastern Promises",
          "I Saw the Devil",
          "Persepolis",
          "Fantastic Mr. Fox",
          "The Return",
          "Nebraska",
          "Force Majeure",
          "The Pianist",
          "The Lives of Others",
          "Yi Yi",
          "13 Assassins",
          "Talk to Her",
          "Werckmeister harmóniák",
          "The New World",
          "Downfall",
          "Still Walking",
          "Memories of Murder",
          "Certified Copy",
          "Summer Hours",
          "A Bittersweet Life",
          "Shame",
          "The Great Beauty",
          "Songs from the Second Floor",
          "Russian Ark",
          "45 Years",
          "The Cove",
          "Samsara",
          "3-Iron",
          "Gui tu lie che",
          "The Revenant",
          "The Big Short",
          "The Turin Horse",
          "Arrival",
          "The Handmaiden",
          "Locke",
          "Gone Baby Gone",
          "Spotlight",
          "The Act of Killing",
          "Parasite",
          "The Lighthouse",
          "Jiang hu er nü",
          "The Wailing",
          "Long Day's Journey Into Night",
          "The Square",
          "The Road",
          "Hell or High Water",
          "Sicario",
          "Burning",
          "Shi",
          "Milyang",
          "Blade Runner 2049",
          "Human"
         ],
         "type": "scatter",
         "x": [
          "R",
          "R",
          "R",
          "R",
          "R",
          "R",
          "R",
          "R",
          "Not Rated",
          "PG",
          "PG-13",
          "Not Rated",
          "R",
          "R",
          "R",
          "R",
          "Not Rated",
          "Not Rated",
          "R",
          "R",
          "R",
          "R",
          "R",
          "PG-13",
          "PG",
          "G",
          "R",
          "Not Rated",
          "R",
          "R",
          "R",
          "R",
          "R",
          "R",
          "R",
          "R",
          "PG",
          "R",
          "R",
          "R",
          "PG-13",
          "R",
          "R",
          "R",
          "R",
          "R",
          "R",
          "Not Rated",
          "PG-13",
          "PG",
          "Not Rated",
          "R",
          "R",
          "R",
          "R",
          "Not Rated",
          "R",
          "R",
          "none",
          "PG-13",
          "R",
          "Not Rated",
          "Not Rated",
          "Not Rated",
          "Not Rated",
          "Not Rated",
          "NC-17",
          "Not Rated",
          "Not Rated",
          "Not Rated",
          "R",
          "PG-13",
          "PG-13",
          "R",
          "Not Rated",
          "R",
          "R",
          "Not Rated",
          "PG-13",
          "Not Rated",
          "R",
          "R",
          "R",
          "Not Rated",
          "R",
          "R",
          "Not Rated",
          "TV-MA",
          "Not Rated",
          "R",
          "R",
          "R",
          "R",
          "Not Rated",
          "TV-PG",
          "Not Rated",
          "R",
          "Not Rated"
         ],
         "y": [
          8.3,
          7.7,
          8.5,
          7.8,
          8.4,
          8,
          8.2,
          7.9,
          7.1,
          8.1,
          7.8,
          7.6,
          8.3,
          8.4,
          8.3,
          7.9,
          7.8,
          7.9,
          7.8,
          7.3,
          7.7,
          8.2,
          7.4,
          6.8,
          8.6,
          8.4,
          8.2,
          7.9,
          7.7,
          8,
          8.1,
          7.2,
          7.2,
          7.7,
          7.5,
          7.9,
          8.1,
          7.3,
          7.5,
          8.1,
          7.5,
          7.1,
          7.7,
          7.8,
          7.6,
          8,
          7.6,
          7.8,
          8,
          7.9,
          8,
          7.7,
          7.3,
          8.5,
          8.4,
          8.1,
          7.6,
          7.9,
          8.2,
          6.7,
          8.2,
          8,
          8.1,
          7.3,
          7.2,
          7.6,
          7.2,
          7.8,
          7.6,
          7.4,
          7.1,
          8.4,
          8.5,
          8,
          7.7,
          8,
          7.8,
          7.8,
          7.9,
          8.1,
          7.1,
          7.6,
          8.1,
          8.2,
          8.6,
          7.7,
          7,
          7.5,
          7.2,
          7.2,
          7.2,
          7.6,
          7.6,
          7.6,
          7.8,
          7.5,
          8,
          8.7
         ]
        }
       ],
       "layout": {
        "hovermode": "closest",
        "paper_bgcolor": "rgb(243, 243, 243)",
        "plot_bgcolor": "rgb(243, 243, 243)",
        "template": {
         "data": {
          "bar": [
           {
            "error_x": {
             "color": "#2a3f5f"
            },
            "error_y": {
             "color": "#2a3f5f"
            },
            "marker": {
             "line": {
              "color": "#E5ECF6",
              "width": 0.5
             }
            },
            "type": "bar"
           }
          ],
          "barpolar": [
           {
            "marker": {
             "line": {
              "color": "#E5ECF6",
              "width": 0.5
             }
            },
            "type": "barpolar"
           }
          ],
          "carpet": [
           {
            "aaxis": {
             "endlinecolor": "#2a3f5f",
             "gridcolor": "white",
             "linecolor": "white",
             "minorgridcolor": "white",
             "startlinecolor": "#2a3f5f"
            },
            "baxis": {
             "endlinecolor": "#2a3f5f",
             "gridcolor": "white",
             "linecolor": "white",
             "minorgridcolor": "white",
             "startlinecolor": "#2a3f5f"
            },
            "type": "carpet"
           }
          ],
          "choropleth": [
           {
            "colorbar": {
             "outlinewidth": 0,
             "ticks": ""
            },
            "type": "choropleth"
           }
          ],
          "contour": [
           {
            "colorbar": {
             "outlinewidth": 0,
             "ticks": ""
            },
            "colorscale": [
             [
              0,
              "#0d0887"
             ],
             [
              0.1111111111111111,
              "#46039f"
             ],
             [
              0.2222222222222222,
              "#7201a8"
             ],
             [
              0.3333333333333333,
              "#9c179e"
             ],
             [
              0.4444444444444444,
              "#bd3786"
             ],
             [
              0.5555555555555556,
              "#d8576b"
             ],
             [
              0.6666666666666666,
              "#ed7953"
             ],
             [
              0.7777777777777778,
              "#fb9f3a"
             ],
             [
              0.8888888888888888,
              "#fdca26"
             ],
             [
              1,
              "#f0f921"
             ]
            ],
            "type": "contour"
           }
          ],
          "contourcarpet": [
           {
            "colorbar": {
             "outlinewidth": 0,
             "ticks": ""
            },
            "type": "contourcarpet"
           }
          ],
          "heatmap": [
           {
            "colorbar": {
             "outlinewidth": 0,
             "ticks": ""
            },
            "colorscale": [
             [
              0,
              "#0d0887"
             ],
             [
              0.1111111111111111,
              "#46039f"
             ],
             [
              0.2222222222222222,
              "#7201a8"
             ],
             [
              0.3333333333333333,
              "#9c179e"
             ],
             [
              0.4444444444444444,
              "#bd3786"
             ],
             [
              0.5555555555555556,
              "#d8576b"
             ],
             [
              0.6666666666666666,
              "#ed7953"
             ],
             [
              0.7777777777777778,
              "#fb9f3a"
             ],
             [
              0.8888888888888888,
              "#fdca26"
             ],
             [
              1,
              "#f0f921"
             ]
            ],
            "type": "heatmap"
           }
          ],
          "heatmapgl": [
           {
            "colorbar": {
             "outlinewidth": 0,
             "ticks": ""
            },
            "colorscale": [
             [
              0,
              "#0d0887"
             ],
             [
              0.1111111111111111,
              "#46039f"
             ],
             [
              0.2222222222222222,
              "#7201a8"
             ],
             [
              0.3333333333333333,
              "#9c179e"
             ],
             [
              0.4444444444444444,
              "#bd3786"
             ],
             [
              0.5555555555555556,
              "#d8576b"
             ],
             [
              0.6666666666666666,
              "#ed7953"
             ],
             [
              0.7777777777777778,
              "#fb9f3a"
             ],
             [
              0.8888888888888888,
              "#fdca26"
             ],
             [
              1,
              "#f0f921"
             ]
            ],
            "type": "heatmapgl"
           }
          ],
          "histogram": [
           {
            "marker": {
             "colorbar": {
              "outlinewidth": 0,
              "ticks": ""
             }
            },
            "type": "histogram"
           }
          ],
          "histogram2d": [
           {
            "colorbar": {
             "outlinewidth": 0,
             "ticks": ""
            },
            "colorscale": [
             [
              0,
              "#0d0887"
             ],
             [
              0.1111111111111111,
              "#46039f"
             ],
             [
              0.2222222222222222,
              "#7201a8"
             ],
             [
              0.3333333333333333,
              "#9c179e"
             ],
             [
              0.4444444444444444,
              "#bd3786"
             ],
             [
              0.5555555555555556,
              "#d8576b"
             ],
             [
              0.6666666666666666,
              "#ed7953"
             ],
             [
              0.7777777777777778,
              "#fb9f3a"
             ],
             [
              0.8888888888888888,
              "#fdca26"
             ],
             [
              1,
              "#f0f921"
             ]
            ],
            "type": "histogram2d"
           }
          ],
          "histogram2dcontour": [
           {
            "colorbar": {
             "outlinewidth": 0,
             "ticks": ""
            },
            "colorscale": [
             [
              0,
              "#0d0887"
             ],
             [
              0.1111111111111111,
              "#46039f"
             ],
             [
              0.2222222222222222,
              "#7201a8"
             ],
             [
              0.3333333333333333,
              "#9c179e"
             ],
             [
              0.4444444444444444,
              "#bd3786"
             ],
             [
              0.5555555555555556,
              "#d8576b"
             ],
             [
              0.6666666666666666,
              "#ed7953"
             ],
             [
              0.7777777777777778,
              "#fb9f3a"
             ],
             [
              0.8888888888888888,
              "#fdca26"
             ],
             [
              1,
              "#f0f921"
             ]
            ],
            "type": "histogram2dcontour"
           }
          ],
          "mesh3d": [
           {
            "colorbar": {
             "outlinewidth": 0,
             "ticks": ""
            },
            "type": "mesh3d"
           }
          ],
          "parcoords": [
           {
            "line": {
             "colorbar": {
              "outlinewidth": 0,
              "ticks": ""
             }
            },
            "type": "parcoords"
           }
          ],
          "pie": [
           {
            "automargin": true,
            "type": "pie"
           }
          ],
          "scatter": [
           {
            "marker": {
             "colorbar": {
              "outlinewidth": 0,
              "ticks": ""
             }
            },
            "type": "scatter"
           }
          ],
          "scatter3d": [
           {
            "line": {
             "colorbar": {
              "outlinewidth": 0,
              "ticks": ""
             }
            },
            "marker": {
             "colorbar": {
              "outlinewidth": 0,
              "ticks": ""
             }
            },
            "type": "scatter3d"
           }
          ],
          "scattercarpet": [
           {
            "marker": {
             "colorbar": {
              "outlinewidth": 0,
              "ticks": ""
             }
            },
            "type": "scattercarpet"
           }
          ],
          "scattergeo": [
           {
            "marker": {
             "colorbar": {
              "outlinewidth": 0,
              "ticks": ""
             }
            },
            "type": "scattergeo"
           }
          ],
          "scattergl": [
           {
            "marker": {
             "colorbar": {
              "outlinewidth": 0,
              "ticks": ""
             }
            },
            "type": "scattergl"
           }
          ],
          "scattermapbox": [
           {
            "marker": {
             "colorbar": {
              "outlinewidth": 0,
              "ticks": ""
             }
            },
            "type": "scattermapbox"
           }
          ],
          "scatterpolar": [
           {
            "marker": {
             "colorbar": {
              "outlinewidth": 0,
              "ticks": ""
             }
            },
            "type": "scatterpolar"
           }
          ],
          "scatterpolargl": [
           {
            "marker": {
             "colorbar": {
              "outlinewidth": 0,
              "ticks": ""
             }
            },
            "type": "scatterpolargl"
           }
          ],
          "scatterternary": [
           {
            "marker": {
             "colorbar": {
              "outlinewidth": 0,
              "ticks": ""
             }
            },
            "type": "scatterternary"
           }
          ],
          "surface": [
           {
            "colorbar": {
             "outlinewidth": 0,
             "ticks": ""
            },
            "colorscale": [
             [
              0,
              "#0d0887"
             ],
             [
              0.1111111111111111,
              "#46039f"
             ],
             [
              0.2222222222222222,
              "#7201a8"
             ],
             [
              0.3333333333333333,
              "#9c179e"
             ],
             [
              0.4444444444444444,
              "#bd3786"
             ],
             [
              0.5555555555555556,
              "#d8576b"
             ],
             [
              0.6666666666666666,
              "#ed7953"
             ],
             [
              0.7777777777777778,
              "#fb9f3a"
             ],
             [
              0.8888888888888888,
              "#fdca26"
             ],
             [
              1,
              "#f0f921"
             ]
            ],
            "type": "surface"
           }
          ],
          "table": [
           {
            "cells": {
             "fill": {
              "color": "#EBF0F8"
             },
             "line": {
              "color": "white"
             }
            },
            "header": {
             "fill": {
              "color": "#C8D4E3"
             },
             "line": {
              "color": "white"
             }
            },
            "type": "table"
           }
          ]
         },
         "layout": {
          "annotationdefaults": {
           "arrowcolor": "#2a3f5f",
           "arrowhead": 0,
           "arrowwidth": 1
          },
          "coloraxis": {
           "colorbar": {
            "outlinewidth": 0,
            "ticks": ""
           }
          },
          "colorscale": {
           "diverging": [
            [
             0,
             "#8e0152"
            ],
            [
             0.1,
             "#c51b7d"
            ],
            [
             0.2,
             "#de77ae"
            ],
            [
             0.3,
             "#f1b6da"
            ],
            [
             0.4,
             "#fde0ef"
            ],
            [
             0.5,
             "#f7f7f7"
            ],
            [
             0.6,
             "#e6f5d0"
            ],
            [
             0.7,
             "#b8e186"
            ],
            [
             0.8,
             "#7fbc41"
            ],
            [
             0.9,
             "#4d9221"
            ],
            [
             1,
             "#276419"
            ]
           ],
           "sequential": [
            [
             0,
             "#0d0887"
            ],
            [
             0.1111111111111111,
             "#46039f"
            ],
            [
             0.2222222222222222,
             "#7201a8"
            ],
            [
             0.3333333333333333,
             "#9c179e"
            ],
            [
             0.4444444444444444,
             "#bd3786"
            ],
            [
             0.5555555555555556,
             "#d8576b"
            ],
            [
             0.6666666666666666,
             "#ed7953"
            ],
            [
             0.7777777777777778,
             "#fb9f3a"
            ],
            [
             0.8888888888888888,
             "#fdca26"
            ],
            [
             1,
             "#f0f921"
            ]
           ],
           "sequentialminus": [
            [
             0,
             "#0d0887"
            ],
            [
             0.1111111111111111,
             "#46039f"
            ],
            [
             0.2222222222222222,
             "#7201a8"
            ],
            [
             0.3333333333333333,
             "#9c179e"
            ],
            [
             0.4444444444444444,
             "#bd3786"
            ],
            [
             0.5555555555555556,
             "#d8576b"
            ],
            [
             0.6666666666666666,
             "#ed7953"
            ],
            [
             0.7777777777777778,
             "#fb9f3a"
            ],
            [
             0.8888888888888888,
             "#fdca26"
            ],
            [
             1,
             "#f0f921"
            ]
           ]
          },
          "colorway": [
           "#636efa",
           "#EF553B",
           "#00cc96",
           "#ab63fa",
           "#FFA15A",
           "#19d3f3",
           "#FF6692",
           "#B6E880",
           "#FF97FF",
           "#FECB52"
          ],
          "font": {
           "color": "#2a3f5f"
          },
          "geo": {
           "bgcolor": "white",
           "lakecolor": "white",
           "landcolor": "#E5ECF6",
           "showlakes": true,
           "showland": true,
           "subunitcolor": "white"
          },
          "hoverlabel": {
           "align": "left"
          },
          "hovermode": "closest",
          "mapbox": {
           "style": "light"
          },
          "paper_bgcolor": "white",
          "plot_bgcolor": "#E5ECF6",
          "polar": {
           "angularaxis": {
            "gridcolor": "white",
            "linecolor": "white",
            "ticks": ""
           },
           "bgcolor": "#E5ECF6",
           "radialaxis": {
            "gridcolor": "white",
            "linecolor": "white",
            "ticks": ""
           }
          },
          "scene": {
           "xaxis": {
            "backgroundcolor": "#E5ECF6",
            "gridcolor": "white",
            "gridwidth": 2,
            "linecolor": "white",
            "showbackground": true,
            "ticks": "",
            "zerolinecolor": "white"
           },
           "yaxis": {
            "backgroundcolor": "#E5ECF6",
            "gridcolor": "white",
            "gridwidth": 2,
            "linecolor": "white",
            "showbackground": true,
            "ticks": "",
            "zerolinecolor": "white"
           },
           "zaxis": {
            "backgroundcolor": "#E5ECF6",
            "gridcolor": "white",
            "gridwidth": 2,
            "linecolor": "white",
            "showbackground": true,
            "ticks": "",
            "zerolinecolor": "white"
           }
          },
          "shapedefaults": {
           "line": {
            "color": "#2a3f5f"
           }
          },
          "ternary": {
           "aaxis": {
            "gridcolor": "white",
            "linecolor": "white",
            "ticks": ""
           },
           "baxis": {
            "gridcolor": "white",
            "linecolor": "white",
            "ticks": ""
           },
           "bgcolor": "#E5ECF6",
           "caxis": {
            "gridcolor": "white",
            "linecolor": "white",
            "ticks": ""
           }
          },
          "title": {
           "x": 0.05
          },
          "xaxis": {
           "automargin": true,
           "gridcolor": "white",
           "linecolor": "white",
           "ticks": "",
           "title": {
            "standoff": 15
           },
           "zerolinecolor": "white",
           "zerolinewidth": 2
          },
          "yaxis": {
           "automargin": true,
           "gridcolor": "white",
           "linecolor": "white",
           "ticks": "",
           "title": {
            "standoff": 15
           },
           "zerolinecolor": "white",
           "zerolinewidth": 2
          }
         }
        },
        "title": {
         "text": "Star Rating vs Film Rating  (2000-2020)"
        },
        "xaxis": {
         "gridwidth": 2,
         "showgrid": true,
         "zeroline": true
        },
        "yaxis": {
         "gridwidth": 2,
         "title": {
          "text": "Star Ratings"
         }
        }
       }
      },
      "text/html": [
       "<div>\n",
       "        \n",
       "        \n",
       "            <div id=\"4ddae6d9-aba9-40cd-8ed8-dea826db8009\" class=\"plotly-graph-div\" style=\"height:525px; width:100%;\"></div>\n",
       "            <script type=\"text/javascript\">\n",
       "                require([\"plotly\"], function(Plotly) {\n",
       "                    window.PLOTLYENV=window.PLOTLYENV || {};\n",
       "                    \n",
       "                if (document.getElementById(\"4ddae6d9-aba9-40cd-8ed8-dea826db8009\")) {\n",
       "                    Plotly.newPlot(\n",
       "                        '4ddae6d9-aba9-40cd-8ed8-dea826db8009',\n",
       "                        [{\"marker\": {\"color\": \"blue\", \"opacity\": 0.5, \"size\": 7}, \"mode\": \"markers\", \"text\": [\"The Hunt\", \"Birdman or (The Unexpected Virtue of Ignorance)\", \"Whiplash\", \"Atonement\", \"Oldboy\", \"Mulholland Dr.\", \"There Will Be Blood\", \"Children of Men\", \"Holy Motors\", \"In the Mood for Love\", \"Sseo-ni\", \"Battle Royale\", \"Am\\u00e9lie\", \"Memento\", \"Eternal Sunshine of the Spotless Mind\", \"Let the Right One In\", \"Kokuhaku\", \"The Chaser\", \"Drive\", \"Capote\", \"Lost in Translation\", \"Pan's Labyrinth\", \"Take Shelter\", \"The Tree of Life\", \"Spirited Away\", \"WALL\\u00b7E\", \"The Secret in Their Eyes\", \"4 Months, 3 Weeks and 2 Days\", \"Zodiac\", \"Before Sunset\", \"Relatos salvajes\", \"Michael Clayton\", \"Gosford Park\", \"City of Life and Death\", \"The Assassination of Jesse James by the Coward Robert Ford\", \"Boyhood\", \"Ookami kodomo no Ame to Yuki\", \"Cach\\u00e9\", \"Sideways\", \"No Country for Old Men\", \"Blancanieves\", \"Tinker Tailor Soldier Spy\", \"Ex Machina\", \"The White Ribbon\", \"Synecdoche, New York\", \"Waltz with Bashir\", \"Eastern Promises\", \"I Saw the Devil\", \"Persepolis\", \"Fantastic Mr. Fox\", \"The Return\", \"Nebraska\", \"Force Majeure\", \"The Pianist\", \"The Lives of Others\", \"Yi Yi\", \"13 Assassins\", \"Talk to Her\", \"Werckmeister harm\\u00f3ni\\u00e1k\", \"The New World\", \"Downfall\", \"Still Walking\", \"Memories of Murder\", \"Certified Copy\", \"Summer Hours\", \"A Bittersweet Life\", \"Shame\", \"The Great Beauty\", \"Songs from the Second Floor\", \"Russian Ark\", \"45 Years\", \"The Cove\", \"Samsara\", \"3-Iron\", \"Gui tu lie che\", \"The Revenant\", \"The Big Short\", \"The Turin Horse\", \"Arrival\", \"The Handmaiden\", \"Locke\", \"Gone Baby Gone\", \"Spotlight\", \"The Act of Killing\", \"Parasite\", \"The Lighthouse\", \"Jiang hu er n\\u00fc\", \"The Wailing\", \"Long Day's Journey Into Night\", \"The Square\", \"The Road\", \"Hell or High Water\", \"Sicario\", \"Burning\", \"Shi\", \"Milyang\", \"Blade Runner 2049\", \"Human\"], \"type\": \"scatter\", \"x\": [\"R\", \"R\", \"R\", \"R\", \"R\", \"R\", \"R\", \"R\", \"Not Rated\", \"PG\", \"PG-13\", \"Not Rated\", \"R\", \"R\", \"R\", \"R\", \"Not Rated\", \"Not Rated\", \"R\", \"R\", \"R\", \"R\", \"R\", \"PG-13\", \"PG\", \"G\", \"R\", \"Not Rated\", \"R\", \"R\", \"R\", \"R\", \"R\", \"R\", \"R\", \"R\", \"PG\", \"R\", \"R\", \"R\", \"PG-13\", \"R\", \"R\", \"R\", \"R\", \"R\", \"R\", \"Not Rated\", \"PG-13\", \"PG\", \"Not Rated\", \"R\", \"R\", \"R\", \"R\", \"Not Rated\", \"R\", \"R\", \"none\", \"PG-13\", \"R\", \"Not Rated\", \"Not Rated\", \"Not Rated\", \"Not Rated\", \"Not Rated\", \"NC-17\", \"Not Rated\", \"Not Rated\", \"Not Rated\", \"R\", \"PG-13\", \"PG-13\", \"R\", \"Not Rated\", \"R\", \"R\", \"Not Rated\", \"PG-13\", \"Not Rated\", \"R\", \"R\", \"R\", \"Not Rated\", \"R\", \"R\", \"Not Rated\", \"TV-MA\", \"Not Rated\", \"R\", \"R\", \"R\", \"R\", \"Not Rated\", \"TV-PG\", \"Not Rated\", \"R\", \"Not Rated\"], \"y\": [8.3, 7.7, 8.5, 7.8, 8.4, 8.0, 8.2, 7.9, 7.1, 8.1, 7.8, 7.6, 8.3, 8.4, 8.3, 7.9, 7.8, 7.9, 7.8, 7.3, 7.7, 8.2, 7.4, 6.8, 8.6, 8.4, 8.2, 7.9, 7.7, 8.0, 8.1, 7.2, 7.2, 7.7, 7.5, 7.9, 8.1, 7.3, 7.5, 8.1, 7.5, 7.1, 7.7, 7.8, 7.6, 8.0, 7.6, 7.8, 8.0, 7.9, 8.0, 7.7, 7.3, 8.5, 8.4, 8.1, 7.6, 7.9, 8.2, 6.7, 8.2, 8.0, 8.1, 7.3, 7.2, 7.6, 7.2, 7.8, 7.6, 7.4, 7.1, 8.4, 8.5, 8.0, 7.7, 8.0, 7.8, 7.8, 7.9, 8.1, 7.1, 7.6, 8.1, 8.2, 8.6, 7.7, 7.0, 7.5, 7.2, 7.2, 7.2, 7.6, 7.6, 7.6, 7.8, 7.5, 8.0, 8.7]}],\n",
       "                        {\"hovermode\": \"closest\", \"paper_bgcolor\": \"rgb(243, 243, 243)\", \"plot_bgcolor\": \"rgb(243, 243, 243)\", \"template\": {\"data\": {\"bar\": [{\"error_x\": {\"color\": \"#2a3f5f\"}, \"error_y\": {\"color\": \"#2a3f5f\"}, \"marker\": {\"line\": {\"color\": \"#E5ECF6\", \"width\": 0.5}}, \"type\": \"bar\"}], \"barpolar\": [{\"marker\": {\"line\": {\"color\": \"#E5ECF6\", \"width\": 0.5}}, \"type\": \"barpolar\"}], \"carpet\": [{\"aaxis\": {\"endlinecolor\": \"#2a3f5f\", \"gridcolor\": \"white\", \"linecolor\": \"white\", \"minorgridcolor\": \"white\", \"startlinecolor\": \"#2a3f5f\"}, \"baxis\": {\"endlinecolor\": \"#2a3f5f\", \"gridcolor\": \"white\", \"linecolor\": \"white\", \"minorgridcolor\": \"white\", \"startlinecolor\": \"#2a3f5f\"}, \"type\": \"carpet\"}], \"choropleth\": [{\"colorbar\": {\"outlinewidth\": 0, \"ticks\": \"\"}, \"type\": \"choropleth\"}], \"contour\": [{\"colorbar\": {\"outlinewidth\": 0, \"ticks\": \"\"}, \"colorscale\": [[0.0, \"#0d0887\"], [0.1111111111111111, \"#46039f\"], [0.2222222222222222, \"#7201a8\"], [0.3333333333333333, \"#9c179e\"], [0.4444444444444444, \"#bd3786\"], [0.5555555555555556, \"#d8576b\"], [0.6666666666666666, \"#ed7953\"], [0.7777777777777778, \"#fb9f3a\"], [0.8888888888888888, \"#fdca26\"], [1.0, \"#f0f921\"]], \"type\": \"contour\"}], \"contourcarpet\": [{\"colorbar\": {\"outlinewidth\": 0, \"ticks\": \"\"}, \"type\": \"contourcarpet\"}], \"heatmap\": [{\"colorbar\": {\"outlinewidth\": 0, \"ticks\": \"\"}, \"colorscale\": [[0.0, \"#0d0887\"], [0.1111111111111111, \"#46039f\"], [0.2222222222222222, \"#7201a8\"], [0.3333333333333333, \"#9c179e\"], [0.4444444444444444, \"#bd3786\"], [0.5555555555555556, \"#d8576b\"], [0.6666666666666666, \"#ed7953\"], [0.7777777777777778, \"#fb9f3a\"], [0.8888888888888888, \"#fdca26\"], [1.0, \"#f0f921\"]], \"type\": \"heatmap\"}], \"heatmapgl\": [{\"colorbar\": {\"outlinewidth\": 0, \"ticks\": \"\"}, \"colorscale\": [[0.0, \"#0d0887\"], [0.1111111111111111, \"#46039f\"], [0.2222222222222222, \"#7201a8\"], [0.3333333333333333, \"#9c179e\"], [0.4444444444444444, \"#bd3786\"], [0.5555555555555556, \"#d8576b\"], [0.6666666666666666, \"#ed7953\"], [0.7777777777777778, \"#fb9f3a\"], [0.8888888888888888, \"#fdca26\"], [1.0, \"#f0f921\"]], \"type\": \"heatmapgl\"}], \"histogram\": [{\"marker\": {\"colorbar\": {\"outlinewidth\": 0, \"ticks\": \"\"}}, \"type\": \"histogram\"}], \"histogram2d\": [{\"colorbar\": {\"outlinewidth\": 0, \"ticks\": \"\"}, \"colorscale\": [[0.0, \"#0d0887\"], [0.1111111111111111, \"#46039f\"], [0.2222222222222222, \"#7201a8\"], [0.3333333333333333, \"#9c179e\"], [0.4444444444444444, \"#bd3786\"], [0.5555555555555556, \"#d8576b\"], [0.6666666666666666, \"#ed7953\"], [0.7777777777777778, \"#fb9f3a\"], [0.8888888888888888, \"#fdca26\"], [1.0, \"#f0f921\"]], \"type\": \"histogram2d\"}], \"histogram2dcontour\": [{\"colorbar\": {\"outlinewidth\": 0, \"ticks\": \"\"}, \"colorscale\": [[0.0, \"#0d0887\"], [0.1111111111111111, \"#46039f\"], [0.2222222222222222, \"#7201a8\"], [0.3333333333333333, \"#9c179e\"], [0.4444444444444444, \"#bd3786\"], [0.5555555555555556, \"#d8576b\"], [0.6666666666666666, \"#ed7953\"], [0.7777777777777778, \"#fb9f3a\"], [0.8888888888888888, \"#fdca26\"], [1.0, \"#f0f921\"]], \"type\": \"histogram2dcontour\"}], \"mesh3d\": [{\"colorbar\": {\"outlinewidth\": 0, \"ticks\": \"\"}, \"type\": \"mesh3d\"}], \"parcoords\": [{\"line\": {\"colorbar\": {\"outlinewidth\": 0, \"ticks\": \"\"}}, \"type\": \"parcoords\"}], \"pie\": [{\"automargin\": true, \"type\": \"pie\"}], \"scatter\": [{\"marker\": {\"colorbar\": {\"outlinewidth\": 0, \"ticks\": \"\"}}, \"type\": \"scatter\"}], \"scatter3d\": [{\"line\": {\"colorbar\": {\"outlinewidth\": 0, \"ticks\": \"\"}}, \"marker\": {\"colorbar\": {\"outlinewidth\": 0, \"ticks\": \"\"}}, \"type\": \"scatter3d\"}], \"scattercarpet\": [{\"marker\": {\"colorbar\": {\"outlinewidth\": 0, \"ticks\": \"\"}}, \"type\": \"scattercarpet\"}], \"scattergeo\": [{\"marker\": {\"colorbar\": {\"outlinewidth\": 0, \"ticks\": \"\"}}, \"type\": \"scattergeo\"}], \"scattergl\": [{\"marker\": {\"colorbar\": {\"outlinewidth\": 0, \"ticks\": \"\"}}, \"type\": \"scattergl\"}], \"scattermapbox\": [{\"marker\": {\"colorbar\": {\"outlinewidth\": 0, \"ticks\": \"\"}}, \"type\": \"scattermapbox\"}], \"scatterpolar\": [{\"marker\": {\"colorbar\": {\"outlinewidth\": 0, \"ticks\": \"\"}}, \"type\": \"scatterpolar\"}], \"scatterpolargl\": [{\"marker\": {\"colorbar\": {\"outlinewidth\": 0, \"ticks\": \"\"}}, \"type\": \"scatterpolargl\"}], \"scatterternary\": [{\"marker\": {\"colorbar\": {\"outlinewidth\": 0, \"ticks\": \"\"}}, \"type\": \"scatterternary\"}], \"surface\": [{\"colorbar\": {\"outlinewidth\": 0, \"ticks\": \"\"}, \"colorscale\": [[0.0, \"#0d0887\"], [0.1111111111111111, \"#46039f\"], [0.2222222222222222, \"#7201a8\"], [0.3333333333333333, \"#9c179e\"], [0.4444444444444444, \"#bd3786\"], [0.5555555555555556, \"#d8576b\"], [0.6666666666666666, \"#ed7953\"], [0.7777777777777778, \"#fb9f3a\"], [0.8888888888888888, \"#fdca26\"], [1.0, \"#f0f921\"]], \"type\": \"surface\"}], \"table\": [{\"cells\": {\"fill\": {\"color\": \"#EBF0F8\"}, \"line\": {\"color\": \"white\"}}, \"header\": {\"fill\": {\"color\": \"#C8D4E3\"}, \"line\": {\"color\": \"white\"}}, \"type\": \"table\"}]}, \"layout\": {\"annotationdefaults\": {\"arrowcolor\": \"#2a3f5f\", \"arrowhead\": 0, \"arrowwidth\": 1}, \"coloraxis\": {\"colorbar\": {\"outlinewidth\": 0, \"ticks\": \"\"}}, \"colorscale\": {\"diverging\": [[0, \"#8e0152\"], [0.1, \"#c51b7d\"], [0.2, \"#de77ae\"], [0.3, \"#f1b6da\"], [0.4, \"#fde0ef\"], [0.5, \"#f7f7f7\"], [0.6, \"#e6f5d0\"], [0.7, \"#b8e186\"], [0.8, \"#7fbc41\"], [0.9, \"#4d9221\"], [1, \"#276419\"]], \"sequential\": [[0.0, \"#0d0887\"], [0.1111111111111111, \"#46039f\"], [0.2222222222222222, \"#7201a8\"], [0.3333333333333333, \"#9c179e\"], [0.4444444444444444, \"#bd3786\"], [0.5555555555555556, \"#d8576b\"], [0.6666666666666666, \"#ed7953\"], [0.7777777777777778, \"#fb9f3a\"], [0.8888888888888888, \"#fdca26\"], [1.0, \"#f0f921\"]], \"sequentialminus\": [[0.0, \"#0d0887\"], [0.1111111111111111, \"#46039f\"], [0.2222222222222222, \"#7201a8\"], [0.3333333333333333, \"#9c179e\"], [0.4444444444444444, \"#bd3786\"], [0.5555555555555556, \"#d8576b\"], [0.6666666666666666, \"#ed7953\"], [0.7777777777777778, \"#fb9f3a\"], [0.8888888888888888, \"#fdca26\"], [1.0, \"#f0f921\"]]}, \"colorway\": [\"#636efa\", \"#EF553B\", \"#00cc96\", \"#ab63fa\", \"#FFA15A\", \"#19d3f3\", \"#FF6692\", \"#B6E880\", \"#FF97FF\", \"#FECB52\"], \"font\": {\"color\": \"#2a3f5f\"}, \"geo\": {\"bgcolor\": \"white\", \"lakecolor\": \"white\", \"landcolor\": \"#E5ECF6\", \"showlakes\": true, \"showland\": true, \"subunitcolor\": \"white\"}, \"hoverlabel\": {\"align\": \"left\"}, \"hovermode\": \"closest\", \"mapbox\": {\"style\": \"light\"}, \"paper_bgcolor\": \"white\", \"plot_bgcolor\": \"#E5ECF6\", \"polar\": {\"angularaxis\": {\"gridcolor\": \"white\", \"linecolor\": \"white\", \"ticks\": \"\"}, \"bgcolor\": \"#E5ECF6\", \"radialaxis\": {\"gridcolor\": \"white\", \"linecolor\": \"white\", \"ticks\": \"\"}}, \"scene\": {\"xaxis\": {\"backgroundcolor\": \"#E5ECF6\", \"gridcolor\": \"white\", \"gridwidth\": 2, \"linecolor\": \"white\", \"showbackground\": true, \"ticks\": \"\", \"zerolinecolor\": \"white\"}, \"yaxis\": {\"backgroundcolor\": \"#E5ECF6\", \"gridcolor\": \"white\", \"gridwidth\": 2, \"linecolor\": \"white\", \"showbackground\": true, \"ticks\": \"\", \"zerolinecolor\": \"white\"}, \"zaxis\": {\"backgroundcolor\": \"#E5ECF6\", \"gridcolor\": \"white\", \"gridwidth\": 2, \"linecolor\": \"white\", \"showbackground\": true, \"ticks\": \"\", \"zerolinecolor\": \"white\"}}, \"shapedefaults\": {\"line\": {\"color\": \"#2a3f5f\"}}, \"ternary\": {\"aaxis\": {\"gridcolor\": \"white\", \"linecolor\": \"white\", \"ticks\": \"\"}, \"baxis\": {\"gridcolor\": \"white\", \"linecolor\": \"white\", \"ticks\": \"\"}, \"bgcolor\": \"#E5ECF6\", \"caxis\": {\"gridcolor\": \"white\", \"linecolor\": \"white\", \"ticks\": \"\"}}, \"title\": {\"x\": 0.05}, \"xaxis\": {\"automargin\": true, \"gridcolor\": \"white\", \"linecolor\": \"white\", \"ticks\": \"\", \"title\": {\"standoff\": 15}, \"zerolinecolor\": \"white\", \"zerolinewidth\": 2}, \"yaxis\": {\"automargin\": true, \"gridcolor\": \"white\", \"linecolor\": \"white\", \"ticks\": \"\", \"title\": {\"standoff\": 15}, \"zerolinecolor\": \"white\", \"zerolinewidth\": 2}}}, \"title\": {\"text\": \"Star Rating vs Film Rating  (2000-2020)\"}, \"xaxis\": {\"gridwidth\": 2, \"showgrid\": true, \"zeroline\": true}, \"yaxis\": {\"gridwidth\": 2, \"title\": {\"text\": \"Star Ratings\"}}},\n",
       "                        {\"responsive\": true}\n",
       "                    ).then(function(){\n",
       "                            \n",
       "var gd = document.getElementById('4ddae6d9-aba9-40cd-8ed8-dea826db8009');\n",
       "var x = new MutationObserver(function (mutations, observer) {{\n",
       "        var display = window.getComputedStyle(gd).display;\n",
       "        if (!display || display === 'none') {{\n",
       "            console.log([gd, 'removed!']);\n",
       "            Plotly.purge(gd);\n",
       "            observer.disconnect();\n",
       "        }}\n",
       "}});\n",
       "\n",
       "// Listen for the removal of the full notebook cells\n",
       "var notebookContainer = gd.closest('#notebook-container');\n",
       "if (notebookContainer) {{\n",
       "    x.observe(notebookContainer, {childList: true});\n",
       "}}\n",
       "\n",
       "// Listen for the clearing of the current output cell\n",
       "var outputEl = gd.closest('.output');\n",
       "if (outputEl) {{\n",
       "    x.observe(outputEl, {childList: true});\n",
       "}}\n",
       "\n",
       "                        })\n",
       "                };\n",
       "                });\n",
       "            </script>\n",
       "        </div>"
      ]
     },
     "metadata": {},
     "output_type": "display_data"
    }
   ],
   "source": [
    "# mandatory imports for offline plotting of plotly\n",
    "from plotly.offline import init_notebook_mode, iplot\n",
    "import plotly.graph_objs as go\n",
    "\n",
    "trace1 = go.Scatter( # for plotting scatter graph, go.Scatter is used\n",
    "        y = title_data.Star_rating,\n",
    "        x = title_data.Film_Rating,\n",
    "        marker = dict(color = 'blue', size = 7, opacity = 0.5), # marker attributes inside graph\n",
    "        mode = \"markers\",\n",
    "        text = title_data.Movie_Title # text for each marker during hover\n",
    ")\n",
    "\n",
    "data = [trace1]\n",
    "\n",
    "layout = go.Layout(\n",
    "    title =   'Star Rating vs Film Rating  (2000-2020)',\n",
    "    xaxis = dict(showgrid = True, zeroline = True, gridwidth = 2), \n",
    "    yaxis = dict(title = 'Star Ratings', gridwidth = 2),\n",
    "    hovermode = 'closest',\n",
    "    paper_bgcolor='rgb(243, 243, 243)',\n",
    "    plot_bgcolor='rgb(243, 243, 243)',\n",
    ")\n",
    "\n",
    "fig_duration = go.Figure(data = data, layout = layout)\n",
    "# for offline glue-ing of plot into notebook\n",
    "init_notebook_mode(connected=True)\n",
    "iplot(fig_duration)"
   ]
  },
  {
   "cell_type": "code",
   "execution_count": 57,
   "metadata": {},
   "outputs": [
    {
     "data": {
      "text/plain": [
       "'duration_rating.html'"
      ]
     },
     "execution_count": 57,
     "metadata": {},
     "output_type": "execute_result"
    }
   ],
   "source": [
    "plotly.offline.plot(fig_duration, filename='duration_rating.html')"
   ]
  },
  {
   "cell_type": "code",
   "execution_count": 16,
   "metadata": {},
   "outputs": [
    {
     "data": {
      "text/html": [
       "        <script type=\"text/javascript\">\n",
       "        window.PlotlyConfig = {MathJaxConfig: 'local'};\n",
       "        if (window.MathJax) {MathJax.Hub.Config({SVG: {font: \"STIX-Web\"}});}\n",
       "        if (typeof require !== 'undefined') {\n",
       "        require.undef(\"plotly\");\n",
       "        requirejs.config({\n",
       "            paths: {\n",
       "                'plotly': ['https://cdn.plot.ly/plotly-latest.min']\n",
       "            }\n",
       "        });\n",
       "        require(['plotly'], function(Plotly) {\n",
       "            window._Plotly = Plotly;\n",
       "        });\n",
       "        }\n",
       "        </script>\n",
       "        "
      ]
     },
     "metadata": {},
     "output_type": "display_data"
    },
    {
     "data": {
      "application/vnd.plotly.v1+json": {
       "config": {
        "linkText": "Export to plot.ly",
        "plotlyServerURL": "https://plot.ly",
        "showLink": false
       },
       "data": [
        {
         "marker": {
          "color": "purple",
          "opacity": 0.5,
          "size": 7
         },
         "mode": "markers",
         "text": [
          "The Hunt",
          "Birdman or (The Unexpected Virtue of Ignorance)",
          "Whiplash",
          "Atonement",
          "Oldboy",
          "Mulholland Dr.",
          "There Will Be Blood",
          "Children of Men",
          "Holy Motors",
          "In the Mood for Love",
          "Sseo-ni",
          "Battle Royale",
          "Amélie",
          "Memento",
          "Eternal Sunshine of the Spotless Mind",
          "Let the Right One In",
          "Kokuhaku",
          "The Chaser",
          "Drive",
          "Capote",
          "Lost in Translation",
          "Pan's Labyrinth",
          "Take Shelter",
          "The Tree of Life",
          "Spirited Away",
          "WALL·E",
          "The Secret in Their Eyes",
          "4 Months, 3 Weeks and 2 Days",
          "Zodiac",
          "Before Sunset",
          "Relatos salvajes",
          "Michael Clayton",
          "Gosford Park",
          "City of Life and Death",
          "The Assassination of Jesse James by the Coward Robert Ford",
          "Boyhood",
          "Ookami kodomo no Ame to Yuki",
          "Caché",
          "Sideways",
          "No Country for Old Men",
          "Blancanieves",
          "Tinker Tailor Soldier Spy",
          "Ex Machina",
          "The White Ribbon",
          "Synecdoche, New York",
          "Waltz with Bashir",
          "Eastern Promises",
          "I Saw the Devil",
          "Persepolis",
          "Fantastic Mr. Fox",
          "The Return",
          "Nebraska",
          "Force Majeure",
          "The Pianist",
          "The Lives of Others",
          "Yi Yi",
          "13 Assassins",
          "Talk to Her",
          "Werckmeister harmóniák",
          "The New World",
          "Downfall",
          "Still Walking",
          "Memories of Murder",
          "Certified Copy",
          "Summer Hours",
          "A Bittersweet Life",
          "Shame",
          "The Great Beauty",
          "Songs from the Second Floor",
          "Russian Ark",
          "45 Years",
          "The Cove",
          "Samsara",
          "3-Iron",
          "Gui tu lie che",
          "The Revenant",
          "The Big Short",
          "The Turin Horse",
          "Arrival",
          "The Handmaiden",
          "Locke",
          "Gone Baby Gone",
          "Spotlight",
          "The Act of Killing",
          "Parasite",
          "The Lighthouse",
          "Jiang hu er nü",
          "The Wailing",
          "Long Day's Journey Into Night",
          "The Square",
          "The Road",
          "Hell or High Water",
          "Sicario",
          "Burning",
          "Shi",
          "Milyang",
          "Blade Runner 2049",
          "Human"
         ],
         "type": "scatter",
         "x": [
          8.3,
          7.7,
          8.5,
          7.8,
          8.4,
          8,
          8.2,
          7.9,
          7.1,
          8.1,
          7.8,
          7.6,
          8.3,
          8.4,
          8.3,
          7.9,
          7.8,
          7.9,
          7.8,
          7.3,
          7.7,
          8.2,
          7.4,
          6.8,
          8.6,
          8.4,
          8.2,
          7.9,
          7.7,
          8,
          8.1,
          7.2,
          7.2,
          7.7,
          7.5,
          7.9,
          8.1,
          7.3,
          7.5,
          8.1,
          7.5,
          7.1,
          7.7,
          7.8,
          7.6,
          8,
          7.6,
          7.8,
          8,
          7.9,
          8,
          7.7,
          7.3,
          8.5,
          8.4,
          8.1,
          7.6,
          7.9,
          8.2,
          6.7,
          8.2,
          8,
          8.1,
          7.3,
          7.2,
          7.6,
          7.2,
          7.8,
          7.6,
          7.4,
          7.1,
          8.4,
          8.5,
          8,
          7.7,
          8,
          7.8,
          7.8,
          7.9,
          8.1,
          7.1,
          7.6,
          8.1,
          8.2,
          8.6,
          7.7,
          7,
          7.5,
          7.2,
          7.2,
          7.2,
          7.6,
          7.6,
          7.6,
          7.8,
          7.5,
          8,
          8.7
         ],
         "y": [
          115,
          119,
          106,
          123,
          120,
          147,
          158,
          109,
          115,
          98,
          124,
          114,
          122,
          113,
          108,
          114,
          106,
          125,
          100,
          114,
          102,
          118,
          120,
          139,
          125,
          98,
          129,
          113,
          157,
          80,
          122,
          119,
          131,
          133,
          160,
          165,
          117,
          117,
          127,
          122,
          104,
          122,
          108,
          144,
          124,
          90,
          100,
          144,
          96,
          87,
          110,
          115,
          120,
          150,
          137,
          173,
          141,
          112,
          145,
          135,
          156,
          115,
          132,
          106,
          103,
          119,
          101,
          141,
          98,
          99,
          91,
          92,
          102,
          88,
          85,
          156,
          130,
          155,
          116,
          145,
          85,
          114,
          129,
          117,
          132,
          109,
          136,
          156,
          138,
          151,
          111,
          102,
          121,
          148,
          139,
          142,
          164,
          190
         ]
        }
       ],
       "layout": {
        "hovermode": "closest",
        "paper_bgcolor": "rgb(243, 243, 243)",
        "plot_bgcolor": "rgb(243, 243, 243)",
        "template": {
         "data": {
          "bar": [
           {
            "error_x": {
             "color": "#2a3f5f"
            },
            "error_y": {
             "color": "#2a3f5f"
            },
            "marker": {
             "line": {
              "color": "#E5ECF6",
              "width": 0.5
             }
            },
            "type": "bar"
           }
          ],
          "barpolar": [
           {
            "marker": {
             "line": {
              "color": "#E5ECF6",
              "width": 0.5
             }
            },
            "type": "barpolar"
           }
          ],
          "carpet": [
           {
            "aaxis": {
             "endlinecolor": "#2a3f5f",
             "gridcolor": "white",
             "linecolor": "white",
             "minorgridcolor": "white",
             "startlinecolor": "#2a3f5f"
            },
            "baxis": {
             "endlinecolor": "#2a3f5f",
             "gridcolor": "white",
             "linecolor": "white",
             "minorgridcolor": "white",
             "startlinecolor": "#2a3f5f"
            },
            "type": "carpet"
           }
          ],
          "choropleth": [
           {
            "colorbar": {
             "outlinewidth": 0,
             "ticks": ""
            },
            "type": "choropleth"
           }
          ],
          "contour": [
           {
            "colorbar": {
             "outlinewidth": 0,
             "ticks": ""
            },
            "colorscale": [
             [
              0,
              "#0d0887"
             ],
             [
              0.1111111111111111,
              "#46039f"
             ],
             [
              0.2222222222222222,
              "#7201a8"
             ],
             [
              0.3333333333333333,
              "#9c179e"
             ],
             [
              0.4444444444444444,
              "#bd3786"
             ],
             [
              0.5555555555555556,
              "#d8576b"
             ],
             [
              0.6666666666666666,
              "#ed7953"
             ],
             [
              0.7777777777777778,
              "#fb9f3a"
             ],
             [
              0.8888888888888888,
              "#fdca26"
             ],
             [
              1,
              "#f0f921"
             ]
            ],
            "type": "contour"
           }
          ],
          "contourcarpet": [
           {
            "colorbar": {
             "outlinewidth": 0,
             "ticks": ""
            },
            "type": "contourcarpet"
           }
          ],
          "heatmap": [
           {
            "colorbar": {
             "outlinewidth": 0,
             "ticks": ""
            },
            "colorscale": [
             [
              0,
              "#0d0887"
             ],
             [
              0.1111111111111111,
              "#46039f"
             ],
             [
              0.2222222222222222,
              "#7201a8"
             ],
             [
              0.3333333333333333,
              "#9c179e"
             ],
             [
              0.4444444444444444,
              "#bd3786"
             ],
             [
              0.5555555555555556,
              "#d8576b"
             ],
             [
              0.6666666666666666,
              "#ed7953"
             ],
             [
              0.7777777777777778,
              "#fb9f3a"
             ],
             [
              0.8888888888888888,
              "#fdca26"
             ],
             [
              1,
              "#f0f921"
             ]
            ],
            "type": "heatmap"
           }
          ],
          "heatmapgl": [
           {
            "colorbar": {
             "outlinewidth": 0,
             "ticks": ""
            },
            "colorscale": [
             [
              0,
              "#0d0887"
             ],
             [
              0.1111111111111111,
              "#46039f"
             ],
             [
              0.2222222222222222,
              "#7201a8"
             ],
             [
              0.3333333333333333,
              "#9c179e"
             ],
             [
              0.4444444444444444,
              "#bd3786"
             ],
             [
              0.5555555555555556,
              "#d8576b"
             ],
             [
              0.6666666666666666,
              "#ed7953"
             ],
             [
              0.7777777777777778,
              "#fb9f3a"
             ],
             [
              0.8888888888888888,
              "#fdca26"
             ],
             [
              1,
              "#f0f921"
             ]
            ],
            "type": "heatmapgl"
           }
          ],
          "histogram": [
           {
            "marker": {
             "colorbar": {
              "outlinewidth": 0,
              "ticks": ""
             }
            },
            "type": "histogram"
           }
          ],
          "histogram2d": [
           {
            "colorbar": {
             "outlinewidth": 0,
             "ticks": ""
            },
            "colorscale": [
             [
              0,
              "#0d0887"
             ],
             [
              0.1111111111111111,
              "#46039f"
             ],
             [
              0.2222222222222222,
              "#7201a8"
             ],
             [
              0.3333333333333333,
              "#9c179e"
             ],
             [
              0.4444444444444444,
              "#bd3786"
             ],
             [
              0.5555555555555556,
              "#d8576b"
             ],
             [
              0.6666666666666666,
              "#ed7953"
             ],
             [
              0.7777777777777778,
              "#fb9f3a"
             ],
             [
              0.8888888888888888,
              "#fdca26"
             ],
             [
              1,
              "#f0f921"
             ]
            ],
            "type": "histogram2d"
           }
          ],
          "histogram2dcontour": [
           {
            "colorbar": {
             "outlinewidth": 0,
             "ticks": ""
            },
            "colorscale": [
             [
              0,
              "#0d0887"
             ],
             [
              0.1111111111111111,
              "#46039f"
             ],
             [
              0.2222222222222222,
              "#7201a8"
             ],
             [
              0.3333333333333333,
              "#9c179e"
             ],
             [
              0.4444444444444444,
              "#bd3786"
             ],
             [
              0.5555555555555556,
              "#d8576b"
             ],
             [
              0.6666666666666666,
              "#ed7953"
             ],
             [
              0.7777777777777778,
              "#fb9f3a"
             ],
             [
              0.8888888888888888,
              "#fdca26"
             ],
             [
              1,
              "#f0f921"
             ]
            ],
            "type": "histogram2dcontour"
           }
          ],
          "mesh3d": [
           {
            "colorbar": {
             "outlinewidth": 0,
             "ticks": ""
            },
            "type": "mesh3d"
           }
          ],
          "parcoords": [
           {
            "line": {
             "colorbar": {
              "outlinewidth": 0,
              "ticks": ""
             }
            },
            "type": "parcoords"
           }
          ],
          "pie": [
           {
            "automargin": true,
            "type": "pie"
           }
          ],
          "scatter": [
           {
            "marker": {
             "colorbar": {
              "outlinewidth": 0,
              "ticks": ""
             }
            },
            "type": "scatter"
           }
          ],
          "scatter3d": [
           {
            "line": {
             "colorbar": {
              "outlinewidth": 0,
              "ticks": ""
             }
            },
            "marker": {
             "colorbar": {
              "outlinewidth": 0,
              "ticks": ""
             }
            },
            "type": "scatter3d"
           }
          ],
          "scattercarpet": [
           {
            "marker": {
             "colorbar": {
              "outlinewidth": 0,
              "ticks": ""
             }
            },
            "type": "scattercarpet"
           }
          ],
          "scattergeo": [
           {
            "marker": {
             "colorbar": {
              "outlinewidth": 0,
              "ticks": ""
             }
            },
            "type": "scattergeo"
           }
          ],
          "scattergl": [
           {
            "marker": {
             "colorbar": {
              "outlinewidth": 0,
              "ticks": ""
             }
            },
            "type": "scattergl"
           }
          ],
          "scattermapbox": [
           {
            "marker": {
             "colorbar": {
              "outlinewidth": 0,
              "ticks": ""
             }
            },
            "type": "scattermapbox"
           }
          ],
          "scatterpolar": [
           {
            "marker": {
             "colorbar": {
              "outlinewidth": 0,
              "ticks": ""
             }
            },
            "type": "scatterpolar"
           }
          ],
          "scatterpolargl": [
           {
            "marker": {
             "colorbar": {
              "outlinewidth": 0,
              "ticks": ""
             }
            },
            "type": "scatterpolargl"
           }
          ],
          "scatterternary": [
           {
            "marker": {
             "colorbar": {
              "outlinewidth": 0,
              "ticks": ""
             }
            },
            "type": "scatterternary"
           }
          ],
          "surface": [
           {
            "colorbar": {
             "outlinewidth": 0,
             "ticks": ""
            },
            "colorscale": [
             [
              0,
              "#0d0887"
             ],
             [
              0.1111111111111111,
              "#46039f"
             ],
             [
              0.2222222222222222,
              "#7201a8"
             ],
             [
              0.3333333333333333,
              "#9c179e"
             ],
             [
              0.4444444444444444,
              "#bd3786"
             ],
             [
              0.5555555555555556,
              "#d8576b"
             ],
             [
              0.6666666666666666,
              "#ed7953"
             ],
             [
              0.7777777777777778,
              "#fb9f3a"
             ],
             [
              0.8888888888888888,
              "#fdca26"
             ],
             [
              1,
              "#f0f921"
             ]
            ],
            "type": "surface"
           }
          ],
          "table": [
           {
            "cells": {
             "fill": {
              "color": "#EBF0F8"
             },
             "line": {
              "color": "white"
             }
            },
            "header": {
             "fill": {
              "color": "#C8D4E3"
             },
             "line": {
              "color": "white"
             }
            },
            "type": "table"
           }
          ]
         },
         "layout": {
          "annotationdefaults": {
           "arrowcolor": "#2a3f5f",
           "arrowhead": 0,
           "arrowwidth": 1
          },
          "coloraxis": {
           "colorbar": {
            "outlinewidth": 0,
            "ticks": ""
           }
          },
          "colorscale": {
           "diverging": [
            [
             0,
             "#8e0152"
            ],
            [
             0.1,
             "#c51b7d"
            ],
            [
             0.2,
             "#de77ae"
            ],
            [
             0.3,
             "#f1b6da"
            ],
            [
             0.4,
             "#fde0ef"
            ],
            [
             0.5,
             "#f7f7f7"
            ],
            [
             0.6,
             "#e6f5d0"
            ],
            [
             0.7,
             "#b8e186"
            ],
            [
             0.8,
             "#7fbc41"
            ],
            [
             0.9,
             "#4d9221"
            ],
            [
             1,
             "#276419"
            ]
           ],
           "sequential": [
            [
             0,
             "#0d0887"
            ],
            [
             0.1111111111111111,
             "#46039f"
            ],
            [
             0.2222222222222222,
             "#7201a8"
            ],
            [
             0.3333333333333333,
             "#9c179e"
            ],
            [
             0.4444444444444444,
             "#bd3786"
            ],
            [
             0.5555555555555556,
             "#d8576b"
            ],
            [
             0.6666666666666666,
             "#ed7953"
            ],
            [
             0.7777777777777778,
             "#fb9f3a"
            ],
            [
             0.8888888888888888,
             "#fdca26"
            ],
            [
             1,
             "#f0f921"
            ]
           ],
           "sequentialminus": [
            [
             0,
             "#0d0887"
            ],
            [
             0.1111111111111111,
             "#46039f"
            ],
            [
             0.2222222222222222,
             "#7201a8"
            ],
            [
             0.3333333333333333,
             "#9c179e"
            ],
            [
             0.4444444444444444,
             "#bd3786"
            ],
            [
             0.5555555555555556,
             "#d8576b"
            ],
            [
             0.6666666666666666,
             "#ed7953"
            ],
            [
             0.7777777777777778,
             "#fb9f3a"
            ],
            [
             0.8888888888888888,
             "#fdca26"
            ],
            [
             1,
             "#f0f921"
            ]
           ]
          },
          "colorway": [
           "#636efa",
           "#EF553B",
           "#00cc96",
           "#ab63fa",
           "#FFA15A",
           "#19d3f3",
           "#FF6692",
           "#B6E880",
           "#FF97FF",
           "#FECB52"
          ],
          "font": {
           "color": "#2a3f5f"
          },
          "geo": {
           "bgcolor": "white",
           "lakecolor": "white",
           "landcolor": "#E5ECF6",
           "showlakes": true,
           "showland": true,
           "subunitcolor": "white"
          },
          "hoverlabel": {
           "align": "left"
          },
          "hovermode": "closest",
          "mapbox": {
           "style": "light"
          },
          "paper_bgcolor": "white",
          "plot_bgcolor": "#E5ECF6",
          "polar": {
           "angularaxis": {
            "gridcolor": "white",
            "linecolor": "white",
            "ticks": ""
           },
           "bgcolor": "#E5ECF6",
           "radialaxis": {
            "gridcolor": "white",
            "linecolor": "white",
            "ticks": ""
           }
          },
          "scene": {
           "xaxis": {
            "backgroundcolor": "#E5ECF6",
            "gridcolor": "white",
            "gridwidth": 2,
            "linecolor": "white",
            "showbackground": true,
            "ticks": "",
            "zerolinecolor": "white"
           },
           "yaxis": {
            "backgroundcolor": "#E5ECF6",
            "gridcolor": "white",
            "gridwidth": 2,
            "linecolor": "white",
            "showbackground": true,
            "ticks": "",
            "zerolinecolor": "white"
           },
           "zaxis": {
            "backgroundcolor": "#E5ECF6",
            "gridcolor": "white",
            "gridwidth": 2,
            "linecolor": "white",
            "showbackground": true,
            "ticks": "",
            "zerolinecolor": "white"
           }
          },
          "shapedefaults": {
           "line": {
            "color": "#2a3f5f"
           }
          },
          "ternary": {
           "aaxis": {
            "gridcolor": "white",
            "linecolor": "white",
            "ticks": ""
           },
           "baxis": {
            "gridcolor": "white",
            "linecolor": "white",
            "ticks": ""
           },
           "bgcolor": "#E5ECF6",
           "caxis": {
            "gridcolor": "white",
            "linecolor": "white",
            "ticks": ""
           }
          },
          "title": {
           "x": 0.05
          },
          "xaxis": {
           "automargin": true,
           "gridcolor": "white",
           "linecolor": "white",
           "ticks": "",
           "title": {
            "standoff": 15
           },
           "zerolinecolor": "white",
           "zerolinewidth": 2
          },
          "yaxis": {
           "automargin": true,
           "gridcolor": "white",
           "linecolor": "white",
           "ticks": "",
           "title": {
            "standoff": 15
           },
           "zerolinecolor": "white",
           "zerolinewidth": 2
          }
         }
        },
        "title": {
         "text": "Film Duration vs Star Rating  (2000-2020)"
        },
        "xaxis": {
         "gridwidth": 2,
         "showgrid": true,
         "zeroline": true
        },
        "yaxis": {
         "gridwidth": 2,
         "title": {
          "text": "Duration"
         }
        }
       }
      },
      "text/html": [
       "<div>\n",
       "        \n",
       "        \n",
       "            <div id=\"ed431809-d381-490e-ab93-beb2c6dfdaef\" class=\"plotly-graph-div\" style=\"height:525px; width:100%;\"></div>\n",
       "            <script type=\"text/javascript\">\n",
       "                require([\"plotly\"], function(Plotly) {\n",
       "                    window.PLOTLYENV=window.PLOTLYENV || {};\n",
       "                    \n",
       "                if (document.getElementById(\"ed431809-d381-490e-ab93-beb2c6dfdaef\")) {\n",
       "                    Plotly.newPlot(\n",
       "                        'ed431809-d381-490e-ab93-beb2c6dfdaef',\n",
       "                        [{\"marker\": {\"color\": \"purple\", \"opacity\": 0.5, \"size\": 7}, \"mode\": \"markers\", \"text\": [\"The Hunt\", \"Birdman or (The Unexpected Virtue of Ignorance)\", \"Whiplash\", \"Atonement\", \"Oldboy\", \"Mulholland Dr.\", \"There Will Be Blood\", \"Children of Men\", \"Holy Motors\", \"In the Mood for Love\", \"Sseo-ni\", \"Battle Royale\", \"Am\\u00e9lie\", \"Memento\", \"Eternal Sunshine of the Spotless Mind\", \"Let the Right One In\", \"Kokuhaku\", \"The Chaser\", \"Drive\", \"Capote\", \"Lost in Translation\", \"Pan's Labyrinth\", \"Take Shelter\", \"The Tree of Life\", \"Spirited Away\", \"WALL\\u00b7E\", \"The Secret in Their Eyes\", \"4 Months, 3 Weeks and 2 Days\", \"Zodiac\", \"Before Sunset\", \"Relatos salvajes\", \"Michael Clayton\", \"Gosford Park\", \"City of Life and Death\", \"The Assassination of Jesse James by the Coward Robert Ford\", \"Boyhood\", \"Ookami kodomo no Ame to Yuki\", \"Cach\\u00e9\", \"Sideways\", \"No Country for Old Men\", \"Blancanieves\", \"Tinker Tailor Soldier Spy\", \"Ex Machina\", \"The White Ribbon\", \"Synecdoche, New York\", \"Waltz with Bashir\", \"Eastern Promises\", \"I Saw the Devil\", \"Persepolis\", \"Fantastic Mr. Fox\", \"The Return\", \"Nebraska\", \"Force Majeure\", \"The Pianist\", \"The Lives of Others\", \"Yi Yi\", \"13 Assassins\", \"Talk to Her\", \"Werckmeister harm\\u00f3ni\\u00e1k\", \"The New World\", \"Downfall\", \"Still Walking\", \"Memories of Murder\", \"Certified Copy\", \"Summer Hours\", \"A Bittersweet Life\", \"Shame\", \"The Great Beauty\", \"Songs from the Second Floor\", \"Russian Ark\", \"45 Years\", \"The Cove\", \"Samsara\", \"3-Iron\", \"Gui tu lie che\", \"The Revenant\", \"The Big Short\", \"The Turin Horse\", \"Arrival\", \"The Handmaiden\", \"Locke\", \"Gone Baby Gone\", \"Spotlight\", \"The Act of Killing\", \"Parasite\", \"The Lighthouse\", \"Jiang hu er n\\u00fc\", \"The Wailing\", \"Long Day's Journey Into Night\", \"The Square\", \"The Road\", \"Hell or High Water\", \"Sicario\", \"Burning\", \"Shi\", \"Milyang\", \"Blade Runner 2049\", \"Human\"], \"type\": \"scatter\", \"x\": [8.3, 7.7, 8.5, 7.8, 8.4, 8.0, 8.2, 7.9, 7.1, 8.1, 7.8, 7.6, 8.3, 8.4, 8.3, 7.9, 7.8, 7.9, 7.8, 7.3, 7.7, 8.2, 7.4, 6.8, 8.6, 8.4, 8.2, 7.9, 7.7, 8.0, 8.1, 7.2, 7.2, 7.7, 7.5, 7.9, 8.1, 7.3, 7.5, 8.1, 7.5, 7.1, 7.7, 7.8, 7.6, 8.0, 7.6, 7.8, 8.0, 7.9, 8.0, 7.7, 7.3, 8.5, 8.4, 8.1, 7.6, 7.9, 8.2, 6.7, 8.2, 8.0, 8.1, 7.3, 7.2, 7.6, 7.2, 7.8, 7.6, 7.4, 7.1, 8.4, 8.5, 8.0, 7.7, 8.0, 7.8, 7.8, 7.9, 8.1, 7.1, 7.6, 8.1, 8.2, 8.6, 7.7, 7.0, 7.5, 7.2, 7.2, 7.2, 7.6, 7.6, 7.6, 7.8, 7.5, 8.0, 8.7], \"y\": [115, 119, 106, 123, 120, 147, 158, 109, 115, 98, 124, 114, 122, 113, 108, 114, 106, 125, 100, 114, 102, 118, 120, 139, 125, 98, 129, 113, 157, 80, 122, 119, 131, 133, 160, 165, 117, 117, 127, 122, 104, 122, 108, 144, 124, 90, 100, 144, 96, 87, 110, 115, 120, 150, 137, 173, 141, 112, 145, 135, 156, 115, 132, 106, 103, 119, 101, 141, 98, 99, 91, 92, 102, 88, 85, 156, 130, 155, 116, 145, 85, 114, 129, 117, 132, 109, 136, 156, 138, 151, 111, 102, 121, 148, 139, 142, 164, 190]}],\n",
       "                        {\"hovermode\": \"closest\", \"paper_bgcolor\": \"rgb(243, 243, 243)\", \"plot_bgcolor\": \"rgb(243, 243, 243)\", \"template\": {\"data\": {\"bar\": [{\"error_x\": {\"color\": \"#2a3f5f\"}, \"error_y\": {\"color\": \"#2a3f5f\"}, \"marker\": {\"line\": {\"color\": \"#E5ECF6\", \"width\": 0.5}}, \"type\": \"bar\"}], \"barpolar\": [{\"marker\": {\"line\": {\"color\": \"#E5ECF6\", \"width\": 0.5}}, \"type\": \"barpolar\"}], \"carpet\": [{\"aaxis\": {\"endlinecolor\": \"#2a3f5f\", \"gridcolor\": \"white\", \"linecolor\": \"white\", \"minorgridcolor\": \"white\", \"startlinecolor\": \"#2a3f5f\"}, \"baxis\": {\"endlinecolor\": \"#2a3f5f\", \"gridcolor\": \"white\", \"linecolor\": \"white\", \"minorgridcolor\": \"white\", \"startlinecolor\": \"#2a3f5f\"}, \"type\": \"carpet\"}], \"choropleth\": [{\"colorbar\": {\"outlinewidth\": 0, \"ticks\": \"\"}, \"type\": \"choropleth\"}], \"contour\": [{\"colorbar\": {\"outlinewidth\": 0, \"ticks\": \"\"}, \"colorscale\": [[0.0, \"#0d0887\"], [0.1111111111111111, \"#46039f\"], [0.2222222222222222, \"#7201a8\"], [0.3333333333333333, \"#9c179e\"], [0.4444444444444444, \"#bd3786\"], [0.5555555555555556, \"#d8576b\"], [0.6666666666666666, \"#ed7953\"], [0.7777777777777778, \"#fb9f3a\"], [0.8888888888888888, \"#fdca26\"], [1.0, \"#f0f921\"]], \"type\": \"contour\"}], \"contourcarpet\": [{\"colorbar\": {\"outlinewidth\": 0, \"ticks\": \"\"}, \"type\": \"contourcarpet\"}], \"heatmap\": [{\"colorbar\": {\"outlinewidth\": 0, \"ticks\": \"\"}, \"colorscale\": [[0.0, \"#0d0887\"], [0.1111111111111111, \"#46039f\"], [0.2222222222222222, \"#7201a8\"], [0.3333333333333333, \"#9c179e\"], [0.4444444444444444, \"#bd3786\"], [0.5555555555555556, \"#d8576b\"], [0.6666666666666666, \"#ed7953\"], [0.7777777777777778, \"#fb9f3a\"], [0.8888888888888888, \"#fdca26\"], [1.0, \"#f0f921\"]], \"type\": \"heatmap\"}], \"heatmapgl\": [{\"colorbar\": {\"outlinewidth\": 0, \"ticks\": \"\"}, \"colorscale\": [[0.0, \"#0d0887\"], [0.1111111111111111, \"#46039f\"], [0.2222222222222222, \"#7201a8\"], [0.3333333333333333, \"#9c179e\"], [0.4444444444444444, \"#bd3786\"], [0.5555555555555556, \"#d8576b\"], [0.6666666666666666, \"#ed7953\"], [0.7777777777777778, \"#fb9f3a\"], [0.8888888888888888, \"#fdca26\"], [1.0, \"#f0f921\"]], \"type\": \"heatmapgl\"}], \"histogram\": [{\"marker\": {\"colorbar\": {\"outlinewidth\": 0, \"ticks\": \"\"}}, \"type\": \"histogram\"}], \"histogram2d\": [{\"colorbar\": {\"outlinewidth\": 0, \"ticks\": \"\"}, \"colorscale\": [[0.0, \"#0d0887\"], [0.1111111111111111, \"#46039f\"], [0.2222222222222222, \"#7201a8\"], [0.3333333333333333, \"#9c179e\"], [0.4444444444444444, \"#bd3786\"], [0.5555555555555556, \"#d8576b\"], [0.6666666666666666, \"#ed7953\"], [0.7777777777777778, \"#fb9f3a\"], [0.8888888888888888, \"#fdca26\"], [1.0, \"#f0f921\"]], \"type\": \"histogram2d\"}], \"histogram2dcontour\": [{\"colorbar\": {\"outlinewidth\": 0, \"ticks\": \"\"}, \"colorscale\": [[0.0, \"#0d0887\"], [0.1111111111111111, \"#46039f\"], [0.2222222222222222, \"#7201a8\"], [0.3333333333333333, \"#9c179e\"], [0.4444444444444444, \"#bd3786\"], [0.5555555555555556, \"#d8576b\"], [0.6666666666666666, \"#ed7953\"], [0.7777777777777778, \"#fb9f3a\"], [0.8888888888888888, \"#fdca26\"], [1.0, \"#f0f921\"]], \"type\": \"histogram2dcontour\"}], \"mesh3d\": [{\"colorbar\": {\"outlinewidth\": 0, \"ticks\": \"\"}, \"type\": \"mesh3d\"}], \"parcoords\": [{\"line\": {\"colorbar\": {\"outlinewidth\": 0, \"ticks\": \"\"}}, \"type\": \"parcoords\"}], \"pie\": [{\"automargin\": true, \"type\": \"pie\"}], \"scatter\": [{\"marker\": {\"colorbar\": {\"outlinewidth\": 0, \"ticks\": \"\"}}, \"type\": \"scatter\"}], \"scatter3d\": [{\"line\": {\"colorbar\": {\"outlinewidth\": 0, \"ticks\": \"\"}}, \"marker\": {\"colorbar\": {\"outlinewidth\": 0, \"ticks\": \"\"}}, \"type\": \"scatter3d\"}], \"scattercarpet\": [{\"marker\": {\"colorbar\": {\"outlinewidth\": 0, \"ticks\": \"\"}}, \"type\": \"scattercarpet\"}], \"scattergeo\": [{\"marker\": {\"colorbar\": {\"outlinewidth\": 0, \"ticks\": \"\"}}, \"type\": \"scattergeo\"}], \"scattergl\": [{\"marker\": {\"colorbar\": {\"outlinewidth\": 0, \"ticks\": \"\"}}, \"type\": \"scattergl\"}], \"scattermapbox\": [{\"marker\": {\"colorbar\": {\"outlinewidth\": 0, \"ticks\": \"\"}}, \"type\": \"scattermapbox\"}], \"scatterpolar\": [{\"marker\": {\"colorbar\": {\"outlinewidth\": 0, \"ticks\": \"\"}}, \"type\": \"scatterpolar\"}], \"scatterpolargl\": [{\"marker\": {\"colorbar\": {\"outlinewidth\": 0, \"ticks\": \"\"}}, \"type\": \"scatterpolargl\"}], \"scatterternary\": [{\"marker\": {\"colorbar\": {\"outlinewidth\": 0, \"ticks\": \"\"}}, \"type\": \"scatterternary\"}], \"surface\": [{\"colorbar\": {\"outlinewidth\": 0, \"ticks\": \"\"}, \"colorscale\": [[0.0, \"#0d0887\"], [0.1111111111111111, \"#46039f\"], [0.2222222222222222, \"#7201a8\"], [0.3333333333333333, \"#9c179e\"], [0.4444444444444444, \"#bd3786\"], [0.5555555555555556, \"#d8576b\"], [0.6666666666666666, \"#ed7953\"], [0.7777777777777778, \"#fb9f3a\"], [0.8888888888888888, \"#fdca26\"], [1.0, \"#f0f921\"]], \"type\": \"surface\"}], \"table\": [{\"cells\": {\"fill\": {\"color\": \"#EBF0F8\"}, \"line\": {\"color\": \"white\"}}, \"header\": {\"fill\": {\"color\": \"#C8D4E3\"}, \"line\": {\"color\": \"white\"}}, \"type\": \"table\"}]}, \"layout\": {\"annotationdefaults\": {\"arrowcolor\": \"#2a3f5f\", \"arrowhead\": 0, \"arrowwidth\": 1}, \"coloraxis\": {\"colorbar\": {\"outlinewidth\": 0, \"ticks\": \"\"}}, \"colorscale\": {\"diverging\": [[0, \"#8e0152\"], [0.1, \"#c51b7d\"], [0.2, \"#de77ae\"], [0.3, \"#f1b6da\"], [0.4, \"#fde0ef\"], [0.5, \"#f7f7f7\"], [0.6, \"#e6f5d0\"], [0.7, \"#b8e186\"], [0.8, \"#7fbc41\"], [0.9, \"#4d9221\"], [1, \"#276419\"]], \"sequential\": [[0.0, \"#0d0887\"], [0.1111111111111111, \"#46039f\"], [0.2222222222222222, \"#7201a8\"], [0.3333333333333333, \"#9c179e\"], [0.4444444444444444, \"#bd3786\"], [0.5555555555555556, \"#d8576b\"], [0.6666666666666666, \"#ed7953\"], [0.7777777777777778, \"#fb9f3a\"], [0.8888888888888888, \"#fdca26\"], [1.0, \"#f0f921\"]], \"sequentialminus\": [[0.0, \"#0d0887\"], [0.1111111111111111, \"#46039f\"], [0.2222222222222222, \"#7201a8\"], [0.3333333333333333, \"#9c179e\"], [0.4444444444444444, \"#bd3786\"], [0.5555555555555556, \"#d8576b\"], [0.6666666666666666, \"#ed7953\"], [0.7777777777777778, \"#fb9f3a\"], [0.8888888888888888, \"#fdca26\"], [1.0, \"#f0f921\"]]}, \"colorway\": [\"#636efa\", \"#EF553B\", \"#00cc96\", \"#ab63fa\", \"#FFA15A\", \"#19d3f3\", \"#FF6692\", \"#B6E880\", \"#FF97FF\", \"#FECB52\"], \"font\": {\"color\": \"#2a3f5f\"}, \"geo\": {\"bgcolor\": \"white\", \"lakecolor\": \"white\", \"landcolor\": \"#E5ECF6\", \"showlakes\": true, \"showland\": true, \"subunitcolor\": \"white\"}, \"hoverlabel\": {\"align\": \"left\"}, \"hovermode\": \"closest\", \"mapbox\": {\"style\": \"light\"}, \"paper_bgcolor\": \"white\", \"plot_bgcolor\": \"#E5ECF6\", \"polar\": {\"angularaxis\": {\"gridcolor\": \"white\", \"linecolor\": \"white\", \"ticks\": \"\"}, \"bgcolor\": \"#E5ECF6\", \"radialaxis\": {\"gridcolor\": \"white\", \"linecolor\": \"white\", \"ticks\": \"\"}}, \"scene\": {\"xaxis\": {\"backgroundcolor\": \"#E5ECF6\", \"gridcolor\": \"white\", \"gridwidth\": 2, \"linecolor\": \"white\", \"showbackground\": true, \"ticks\": \"\", \"zerolinecolor\": \"white\"}, \"yaxis\": {\"backgroundcolor\": \"#E5ECF6\", \"gridcolor\": \"white\", \"gridwidth\": 2, \"linecolor\": \"white\", \"showbackground\": true, \"ticks\": \"\", \"zerolinecolor\": \"white\"}, \"zaxis\": {\"backgroundcolor\": \"#E5ECF6\", \"gridcolor\": \"white\", \"gridwidth\": 2, \"linecolor\": \"white\", \"showbackground\": true, \"ticks\": \"\", \"zerolinecolor\": \"white\"}}, \"shapedefaults\": {\"line\": {\"color\": \"#2a3f5f\"}}, \"ternary\": {\"aaxis\": {\"gridcolor\": \"white\", \"linecolor\": \"white\", \"ticks\": \"\"}, \"baxis\": {\"gridcolor\": \"white\", \"linecolor\": \"white\", \"ticks\": \"\"}, \"bgcolor\": \"#E5ECF6\", \"caxis\": {\"gridcolor\": \"white\", \"linecolor\": \"white\", \"ticks\": \"\"}}, \"title\": {\"x\": 0.05}, \"xaxis\": {\"automargin\": true, \"gridcolor\": \"white\", \"linecolor\": \"white\", \"ticks\": \"\", \"title\": {\"standoff\": 15}, \"zerolinecolor\": \"white\", \"zerolinewidth\": 2}, \"yaxis\": {\"automargin\": true, \"gridcolor\": \"white\", \"linecolor\": \"white\", \"ticks\": \"\", \"title\": {\"standoff\": 15}, \"zerolinecolor\": \"white\", \"zerolinewidth\": 2}}}, \"title\": {\"text\": \"Film Duration vs Star Rating  (2000-2020)\"}, \"xaxis\": {\"gridwidth\": 2, \"showgrid\": true, \"zeroline\": true}, \"yaxis\": {\"gridwidth\": 2, \"title\": {\"text\": \"Duration\"}}},\n",
       "                        {\"responsive\": true}\n",
       "                    ).then(function(){\n",
       "                            \n",
       "var gd = document.getElementById('ed431809-d381-490e-ab93-beb2c6dfdaef');\n",
       "var x = new MutationObserver(function (mutations, observer) {{\n",
       "        var display = window.getComputedStyle(gd).display;\n",
       "        if (!display || display === 'none') {{\n",
       "            console.log([gd, 'removed!']);\n",
       "            Plotly.purge(gd);\n",
       "            observer.disconnect();\n",
       "        }}\n",
       "}});\n",
       "\n",
       "// Listen for the removal of the full notebook cells\n",
       "var notebookContainer = gd.closest('#notebook-container');\n",
       "if (notebookContainer) {{\n",
       "    x.observe(notebookContainer, {childList: true});\n",
       "}}\n",
       "\n",
       "// Listen for the clearing of the current output cell\n",
       "var outputEl = gd.closest('.output');\n",
       "if (outputEl) {{\n",
       "    x.observe(outputEl, {childList: true});\n",
       "}}\n",
       "\n",
       "                        })\n",
       "                };\n",
       "                });\n",
       "            </script>\n",
       "        </div>"
      ]
     },
     "metadata": {},
     "output_type": "display_data"
    }
   ],
   "source": [
    "# mandatory imports for offline plotting of plotly\n",
    "from plotly.offline import init_notebook_mode, iplot\n",
    "import plotly.graph_objs as go\n",
    "\n",
    "trace1 = go.Scatter( # for plotting scatter graph, go.Scatter is used\n",
    "        y = title_data.Duration,\n",
    "        x = title_data.Star_rating,\n",
    "        marker = dict(color = 'purple', size = 7, opacity = 0.5), # marker attributes inside graph\n",
    "        mode = \"markers\",\n",
    "        text = title_data.Movie_Title # text for each marker during hover\n",
    ")\n",
    "\n",
    "data = [trace1]\n",
    "\n",
    "layout = go.Layout(\n",
    "    title =   'Film Duration vs Star Rating  (2000-2020)',\n",
    "    xaxis = dict(showgrid = True, zeroline = True, gridwidth = 2), \n",
    "    yaxis = dict(title = 'Duration', gridwidth = 2),\n",
    "    hovermode = 'closest',\n",
    "    paper_bgcolor='rgb(243, 243, 243)',\n",
    "    plot_bgcolor='rgb(243, 243, 243)',\n",
    ")\n",
    "\n",
    "fig_star_rating = go.Figure(data = data, layout = layout)\n",
    "# for offline glue-ing of plot into notebook\n",
    "init_notebook_mode(connected=True)\n",
    "iplot(fig_star_rating)"
   ]
  },
  {
   "cell_type": "code",
   "execution_count": 56,
   "metadata": {},
   "outputs": [
    {
     "data": {
      "text/plain": [
       "'Duration_And_Star_Rating.html'"
      ]
     },
     "execution_count": 56,
     "metadata": {},
     "output_type": "execute_result"
    }
   ],
   "source": [
    "plotly.offline.plot(fig_star_rating, filename='Duration_And_Star_Rating.html')"
   ]
  },
  {
   "cell_type": "code",
   "execution_count": 82,
   "metadata": {},
   "outputs": [
    {
     "name": "stdout",
     "output_type": "stream",
     "text": [
      "Year            int64\n",
      "Gross_Value    object\n",
      "dtype: object\n"
     ]
    }
   ],
   "source": [
    "years_gross = title_data[[\"Year\", \"Gross_Value\"]]\n",
    "years_gross = years_gross.mask(years_gross.eq('none')).dropna()\n"
   ]
  },
  {
   "cell_type": "code",
   "execution_count": 97,
   "metadata": {},
   "outputs": [
    {
     "data": {
      "text/plain": [
       "array([2012, 2014, 2007, 2003, 2001, 2006, 2000, 2004, 2008, 2011, 2005,\n",
       "       2009, 2010, 2013, 2002, 2015, 2016, 2019, 2018, 2017], dtype=int64)"
      ]
     },
     "execution_count": 97,
     "metadata": {},
     "output_type": "execute_result"
    }
   ],
   "source": [
    "years_gross['Gross_Value'] = years_gross['Gross_Value'].astype(int)\n",
    "#print(years_gross.dtypes)\n"
   ]
  },
  {
   "cell_type": "code",
   "execution_count": 109,
   "metadata": {},
   "outputs": [
    {
     "data": {
      "image/png": "[encoded data removed]",
      "text/plain": [
       "<Figure size 1080x720 with 1 Axes>"
      ]
     },
     "metadata": {},
     "output_type": "display_data"
    }
   ],
   "source": [
    "import seaborn as sns\n",
    "import matplotlib.pyplot as plt\n",
    "\n",
    "plt.figure(figsize = (15,10))\n",
    "sns.set_style('white')\n",
    "\n",
    "fig = sns.regplot(x=\"Year\", y=\"Gross_Value\", data=years_gross, color='#C71585')\n",
    "\n",
    "plt.ylabel('Gross Value (in millions)', fontsize = 17)\n",
    "plt.xlabel('Year of Release', fontsize = 17)\n",
    "plt.xticks(fontsize = 13)\n",
    "plt.yticks(fontsize = 13)\n",
    "plt.title(' Grossing Films (2000-2020)', fontsize = 23)\n",
    "plt.show()\n"
   ]
  },
  {
   "cell_type": "code",
   "execution_count": null,
   "metadata": {},
   "outputs": [],
   "source": [
    "import seaborn as sns\n",
    "import matplotlib.pyplot as plt\n",
    "\n",
    "plt.figure(figsize = (20,13))\n",
    "sns.set_style('white')\n",
    "\n",
    "fig = sns.countplot(y=\"Genre\", hue=\"rating\", data=title_data, palette=\"husl\")\n",
    "\n",
    "plt.ylabel('',fontsize = 17)\n",
    "plt.xlabel('Number of films', fontsize = 17)\n",
    "plt.xticks(fontsize = 13)\n",
    "plt.yticks(fontsize = 13)\n",
    "plt.legend(bbox_to_anchor=(1,1), loc=2, prop={'size':15}, title=\"Maturity Rating\")\n",
    "plt.title('Number of films for each Main Genre based on their Maturity Rating', fontsize = 23)\n",
    "plt.show()\n"
   ]
  }
 ],
 "metadata": {
  "kernelspec": {
   "display_name": "Python 3",
   "language": "python",
   "name": "python3"
  },
  "language_info": {
   "codemirror_mode": {
    "name": "ipython",
    "version": 3
   },
   "file_extension": ".py",
   "mimetype": "text/x-python",
   "name": "python",
   "nbconvert_exporter": "python",
   "pygments_lexer": "ipython3",
   "version": "3.7.4"
  }
 },
 "nbformat": 4,
 "nbformat_minor": 2
}
